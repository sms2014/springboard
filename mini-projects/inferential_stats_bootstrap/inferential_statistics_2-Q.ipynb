{
 "cells": [
  {
   "cell_type": "markdown",
   "metadata": {},
   "source": [
    "# Inferential statistics II - Bootstrapping"
   ]
  },
  {
   "cell_type": "markdown",
   "metadata": {},
   "source": [
    "## Introduction"
   ]
  },
  {
   "cell_type": "markdown",
   "metadata": {},
   "source": [
    "In the previous frequentist mini-projects, you did frequentist calculations to perform inference from a sample of data. Such inference relies on theory largely developed from the 19th-Century onwards that is subject to certain assumptions or theoretical limits. These are fine if those assumptions hold for the particular case you're working on, and what you want to do has a known theoretical distribution (for example the mean of a sampling distribution that we looked at in the previous mini-project.)"
   ]
  },
  {
   "cell_type": "markdown",
   "metadata": {},
   "source": [
    "In this mini-project, you'll use the same medical charge data you used in the frequentist inference mini-project, but this time you'll make inferences about the population using bootstrapping (ie. simulating repeated re-runs of an experiment.) If frequentism is about using assumptions and theoretical results to calculate what we expect to happen were an experiment to be run again and again and again, then bootstrapping is about using computing power to essentially re-run the sample draw again and again and again to see what actually happens."
   ]
  },
  {
   "cell_type": "markdown",
   "metadata": {},
   "source": [
    "## Prerequisites"
   ]
  },
  {
   "cell_type": "markdown",
   "metadata": {},
   "source": [
    "While these exercises do not strictly depend on these concepts, we encourage you to complete the previous mini-projects before starting this one so that you can approach this assignment with a good understanding of frequentist concepts like:\n",
    "* the _z_-statistic\n",
    "* the _t_-statistic\n",
    "* the difference and relationship between the two\n",
    "* the Central Limit Theorem, its assumptions and consequences\n",
    "* how to estimate the population mean and standard deviation from a sample\n",
    "* the concept of a sampling distribution of a test statistic, particularly for the mean\n",
    "* how to combine these concepts to calculate confidence intervals and p-values\n",
    "* how those confidence intervals and p-values allow you to perform hypothesis (or A/B) tests"
   ]
  },
  {
   "cell_type": "markdown",
   "metadata": {},
   "source": [
    "To complete mini-project, it's important that you first complete the bootstrap resources listed in this subunit, as they contain valuable information about how to calculate bootstrap replicates of summary statistics. Having an basic understanding of what confidence intervals and p-values are will also be helpful (we touch on them in this mini-project, but please speak to your mentor or conduct individual research if you'd like to learn more.) "
   ]
  },
  {
   "cell_type": "code",
   "execution_count": 1,
   "metadata": {
    "collapsed": true
   },
   "outputs": [],
   "source": [
    "import pandas as pd\n",
    "import numpy as np\n",
    "from numpy.random import seed\n",
    "import matplotlib.pyplot as plt"
   ]
  },
  {
   "cell_type": "markdown",
   "metadata": {},
   "source": [
    "## Medical charge data set"
   ]
  },
  {
   "cell_type": "code",
   "execution_count": 2,
   "metadata": {
    "collapsed": true
   },
   "outputs": [],
   "source": [
    "med_charges = pd.read_csv('data/insurance2.csv')"
   ]
  },
  {
   "cell_type": "markdown",
   "metadata": {},
   "source": [
    "In the previous assignment, you used the frequentist approach to estimate the lower limit for the 95% confidence interval on the mean hospital charge. This approach relies on statistical theory that has been developed over the years and is also limited to statistics for which theoretical results on the sampling distribution exist. These results are remarkably useful and applicable much of the time and under a surprisingly wide range of conditions."
   ]
  },
  {
   "cell_type": "markdown",
   "metadata": {},
   "source": [
    "Having calculated the 95% lower confidence interval using frequentist theory in the previous exercise, you'll now use bootstrap inference to verify your calculations and check that you get consistent results without making the assumptions required before. After all, the distribution of charges really was very non-normal."
   ]
  },
  {
   "cell_type": "markdown",
   "metadata": {},
   "source": [
    "__Q:__ Use bootstrap sampling to estimate the same 95% confidence interval lower limit as before."
   ]
  },
  {
   "cell_type": "markdown",
   "metadata": {},
   "source": [
    "A: Based on results below, the 95% confidence interval lower limit = 12624.8 which is close to 12621.5 obtained in previous exericse using t statistic."
   ]
  },
  {
   "cell_type": "code",
   "execution_count": 5,
   "metadata": {},
   "outputs": [
    {
     "data": {
      "text/plain": [
       "(1338, 8)"
      ]
     },
     "execution_count": 5,
     "metadata": {},
     "output_type": "execute_result"
    }
   ],
   "source": [
    "med_charges.shape"
   ]
  },
  {
   "cell_type": "code",
   "execution_count": 6,
   "metadata": {},
   "outputs": [
    {
     "data": {
      "text/html": [
       "<div>\n",
       "<style scoped>\n",
       "    .dataframe tbody tr th:only-of-type {\n",
       "        vertical-align: middle;\n",
       "    }\n",
       "\n",
       "    .dataframe tbody tr th {\n",
       "        vertical-align: top;\n",
       "    }\n",
       "\n",
       "    .dataframe thead th {\n",
       "        text-align: right;\n",
       "    }\n",
       "</style>\n",
       "<table border=\"1\" class=\"dataframe\">\n",
       "  <thead>\n",
       "    <tr style=\"text-align: right;\">\n",
       "      <th></th>\n",
       "      <th>age</th>\n",
       "      <th>sex</th>\n",
       "      <th>bmi</th>\n",
       "      <th>children</th>\n",
       "      <th>smoker</th>\n",
       "      <th>region</th>\n",
       "      <th>charges</th>\n",
       "      <th>insuranceclaim</th>\n",
       "    </tr>\n",
       "  </thead>\n",
       "  <tbody>\n",
       "    <tr>\n",
       "      <th>0</th>\n",
       "      <td>19</td>\n",
       "      <td>0</td>\n",
       "      <td>27.900</td>\n",
       "      <td>0</td>\n",
       "      <td>1</td>\n",
       "      <td>3</td>\n",
       "      <td>16884.92400</td>\n",
       "      <td>1</td>\n",
       "    </tr>\n",
       "    <tr>\n",
       "      <th>1</th>\n",
       "      <td>18</td>\n",
       "      <td>1</td>\n",
       "      <td>33.770</td>\n",
       "      <td>1</td>\n",
       "      <td>0</td>\n",
       "      <td>2</td>\n",
       "      <td>1725.55230</td>\n",
       "      <td>1</td>\n",
       "    </tr>\n",
       "    <tr>\n",
       "      <th>2</th>\n",
       "      <td>28</td>\n",
       "      <td>1</td>\n",
       "      <td>33.000</td>\n",
       "      <td>3</td>\n",
       "      <td>0</td>\n",
       "      <td>2</td>\n",
       "      <td>4449.46200</td>\n",
       "      <td>0</td>\n",
       "    </tr>\n",
       "    <tr>\n",
       "      <th>3</th>\n",
       "      <td>33</td>\n",
       "      <td>1</td>\n",
       "      <td>22.705</td>\n",
       "      <td>0</td>\n",
       "      <td>0</td>\n",
       "      <td>1</td>\n",
       "      <td>21984.47061</td>\n",
       "      <td>0</td>\n",
       "    </tr>\n",
       "    <tr>\n",
       "      <th>4</th>\n",
       "      <td>32</td>\n",
       "      <td>1</td>\n",
       "      <td>28.880</td>\n",
       "      <td>0</td>\n",
       "      <td>0</td>\n",
       "      <td>1</td>\n",
       "      <td>3866.85520</td>\n",
       "      <td>1</td>\n",
       "    </tr>\n",
       "  </tbody>\n",
       "</table>\n",
       "</div>"
      ],
      "text/plain": [
       "   age  sex     bmi  children  smoker  region      charges  insuranceclaim\n",
       "0   19    0  27.900         0       1       3  16884.92400               1\n",
       "1   18    1  33.770         1       0       2   1725.55230               1\n",
       "2   28    1  33.000         3       0       2   4449.46200               0\n",
       "3   33    1  22.705         0       0       1  21984.47061               0\n",
       "4   32    1  28.880         0       0       1   3866.85520               1"
      ]
     },
     "execution_count": 6,
     "metadata": {},
     "output_type": "execute_result"
    }
   ],
   "source": [
    "med_charges.head()"
   ]
  },
  {
   "cell_type": "code",
   "execution_count": 17,
   "metadata": {},
   "outputs": [
    {
     "data": {
      "image/png": "[encoded data removed]",
      "text/plain": [
       "<Figure size 432x288 with 1 Axes>"
      ]
     },
     "metadata": {},
     "output_type": "display_data"
    },
    {
     "name": "stdout",
     "output_type": "stream",
     "text": [
      "Lowerbound for 95% confidence interval for mean charges: 12624.862119128531\n"
     ]
    }
   ],
   "source": [
    "# Estimate lower limit at 95% confidence level for mean of med_charges['charges']\n",
    "np.random.seed(47)\n",
    "N_rep = 10000\n",
    "\n",
    "bootstrap_means = []\n",
    "for i in range(N_rep):\n",
    "    sample_mean = np.random.choice(med_charges['charges'],size=1338).mean()\n",
    "    bootstrap_means.append(sample_mean)\n",
    "    \n",
    "plt.hist(bootstrap_means, bins=50)\n",
    "plt.show()\n",
    "\n",
    "Lowerbound_95confidence_interval_for_mean = np.percentile(bootstrap_means,q=2.5)\n",
    "print('Lowerbound for 95% confidence interval for mean charges:',Lowerbound_95confidence_interval_for_mean)\n",
    "    \n"
   ]
  },
  {
   "cell_type": "markdown",
   "metadata": {},
   "source": [
    "If you performed 10000 replicates immediately after setting the random seed to 47, you should get the value 12724 here, which compares very well with the value 12725 obtained using the _t_-distribution confidence interval previously. It is a most pleasant result to see the predictions of classical frequentist theory match with results that are now possible through the number-crunching ability of computers."
   ]
  },
  {
   "cell_type": "markdown",
   "metadata": {},
   "source": [
    "Remember, in the previous mini-projects, we saw that there are two ways of performing a _t_-test from a sample, depending on whether we can assume the groups have equal variance or not. We can actually easily test this using the bootstrap approach!"
   ]
  },
  {
   "cell_type": "markdown",
   "metadata": {},
   "source": [
    "__Q:__ Calculate the 95% confidence interval for the difference between the standard deviations of insurance and non-insurance claim charges (insured - non-insured). Calculate the differences over 10000 replicates. Plot the histogram of values and mark the locations of the percentiles. State the null and alternative hypothesis and comment on whether you would retain or reject the null hypothesis in this case and why."
   ]
  },
  {
   "cell_type": "markdown",
   "metadata": {},
   "source": [
    "A:\n",
    "\n",
    "Null hypothesis : (std_insured_charges - std_noninsured_charges) = 0\n",
    "\n",
    "Alternate hypothesis : (std_insured_charges - std_noninsured_charges) != 0\n",
    "\n",
    "Based on results below, since the 95% confidence interval doesn't contain 0, we can reject the null hypothesis and accept the alternate hypothesis. Hence, we can say that there is a statistically significant differene in the standard deviation of insured charges vs noninsured charges."
   ]
  },
  {
   "cell_type": "code",
   "execution_count": 20,
   "metadata": {},
   "outputs": [
    {
     "name": "stdout",
     "output_type": "stream",
     "text": [
      " Std Insured Charges: 14045.928418802127 \n",
      " Std Noninsured Charges: 6446.510126811736\n",
      "(Std Insured Charges - Std Noninsured Charges) :  7599.418291990391\n"
     ]
    },
    {
     "data": {
      "image/png": "[encoded data removed]",
      "text/plain": [
       "<Figure size 432x288 with 1 Axes>"
      ]
     },
     "metadata": {},
     "output_type": "display_data"
    }
   ],
   "source": [
    "# Plot histogram for Insured charges and Noninsured charges\n",
    "std_insured_charges = med_charges['charges'][med_charges['insuranceclaim']==1].std()\n",
    "std_noninsured_charges = med_charges['charges'][med_charges['insuranceclaim']==0].std()\n",
    "\n",
    "print(\" Std Insured Charges:\", std_insured_charges, \"\\n\",\"Std Noninsured Charges:\", std_noninsured_charges)\n",
    "print(\"(Std Insured Charges - Std Noninsured Charges) : \", std_insured_charges-std_noninsured_charges)\n",
    "\n",
    "plt.hist(med_charges['charges'][med_charges['insuranceclaim']==1], bins=20, label='Insured')\n",
    "plt.hist(med_charges['charges'][med_charges['insuranceclaim']==0], bins=20, label='Noninsured')\n",
    "plt.legend()\n",
    "plt.xlabel(\"Charge amount\")\n",
    "plt.ylabel(\"Frequencey\")\n",
    "plt.show()"
   ]
  },
  {
   "cell_type": "code",
   "execution_count": 18,
   "metadata": {},
   "outputs": [
    {
     "name": "stdout",
     "output_type": "stream",
     "text": [
      "Lowerbound for 95% confidence interval for (std_insured_charges - std_noninsured_charges): 6675.690828707654\n",
      "Upperbound for 95% confidence interval for (std_insured_charges - std_noninsured_charges): 8508.555040182822\n"
     ]
    }
   ],
   "source": [
    "#Draw 10000 bootstrap samples to estimate 95% confidence interval for differnce between standard deviations of Insured and \n",
    "#Noninsured charges\n",
    "\n",
    "np.random.seed(47)\n",
    "N_rep = 10000\n",
    "\n",
    "bootstrap_std_diff = []\n",
    "for i in range(N_rep):\n",
    "    sample_med_charges_index = np.random.choice(med_charges.index,size=1338)\n",
    "    sample_med_charges = med_charges.iloc[sample_med_charges_index]\n",
    "    \n",
    "    sample_std_insured_charges = sample_med_charges['charges'][sample_med_charges['insuranceclaim']==1].std()\n",
    "    sample_std_noninsured_charges = sample_med_charges['charges'][sample_med_charges['insuranceclaim']==0].std()\n",
    "    \n",
    "    sample_std_diff = sample_std_insured_charges - sample_std_noninsured_charges\n",
    "    \n",
    "    bootstrap_std_diff.append(sample_std_diff)\n",
    "    \n",
    "Lowerbound_95confidence_interval_std_diff = np.percentile(bootstrap_std_diff, q=2.5)\n",
    "print('Lowerbound for 95% confidence interval for (std_insured_charges - std_noninsured_charges):',\n",
    "      Lowerbound_95confidence_interval_std_diff)\n",
    "Upperbound_95confidence_interval_std_diff = np.percentile(bootstrap_std_diff, q=97.5)\n",
    "print('Upperbound for 95% confidence interval for (std_insured_charges - std_noninsured_charges):', \n",
    "      Upperbound_95confidence_interval_std_diff)\n"
   ]
  },
  {
   "cell_type": "code",
   "execution_count": 23,
   "metadata": {},
   "outputs": [
    {
     "data": {
      "image/png": "[encoded data removed]",
      "text/plain": [
       "<Figure size 432x288 with 1 Axes>"
      ]
     },
     "metadata": {},
     "output_type": "display_data"
    }
   ],
   "source": [
    "#Plot the histogram for Difference in standard deviations between Insured and Noninsured\n",
    "plt.hist(bootstrap_std_diff,bins=50)\n",
    "plt.axvline(Lowerbound_95confidence_interval_std_diff,color='r',linestyle='--')\n",
    "plt.axvline(Upperbound_95confidence_interval_std_diff,color='r',linestyle='--')\n",
    "plt.xlabel(\"Difference between standard deviations of Insured and Noninsured charges\")\n",
    "plt.show()"
   ]
  },
  {
   "cell_type": "markdown",
   "metadata": {},
   "source": [
    "## Confidence interval and p-value"
   ]
  },
  {
   "cell_type": "markdown",
   "metadata": {},
   "source": [
    "The confidence interval above is often a useful quantity to estimate. If we wish to limit our expected probability of making a Type I error (where we wrongly reject the null hypothesis, and it is, instead, true) to $\\alpha$, the associated confidence interval is our estimate of the interval within which we expect the true population value to be found $100\\times(1 - \\alpha)$% of the time we do this test. In the above we performed bootstrap replicates to estimate the interval and reject the null hypothesis if this interval did not contain zero. You will sometimes see such an interval reported in the output of statistical functions.\n",
    "\n",
    "The partner of the confidence interval is the p-value. The p-value and the confidence interval are linked through our choice of $\\alpha$. The p-value tells us how likely it is, under the null hypothesis, to get an outcome at least as extreme as what was observed. If this fails to reach the level of our _pre-specified_ $\\alpha$, we decide the null hypothesis is sufficiently unlikely to be true and thus reject it. To calculate this p-value via the bootstrap, we have to put ourselves in a position where we are simulating the null hypothesis being true and then calculate the fraction of times we observe a result at least as extreme as that actually observed.\n",
    "\n",
    "Remember how, previously, you used the _t_-test to calculate the p-value for the observed difference between the means of insured and non-insured medical cases. We're now going to repeat this, this time using the bootstrap approach.\n",
    "\n",
    "__Q:__ Perform a bootstrapped hypothesis test at the 5% significance level ($\\alpha = 0.05$) to calculate the p-value of the observed difference between insurance and non-insurance charges, state your null and alternative hypotheses and whether you retain or reject the null hypothesis for the given significance level."
   ]
  },
  {
   "cell_type": "markdown",
   "metadata": {},
   "source": [
    "__A:__\n",
    "\n",
    "Null hypothesis: mean for Insured charges - mean for Noninsured charges = 0\n",
    "\n",
    "Alternate hypothesis: mean for Insurance charges - mean for Noninsured charges != 0 \n",
    "\n",
    "Based on results below, we can see that the 95% confidence interval for difference in means of Insured and Noninsured charges doesn't contain zero. Hence, null hypothesis can be rejected in this case and alternate hpyothesis can be accepted. Hence, mean for Insured charges is not equal to mean of Noninsured charges.\n",
    "\n",
    "Also, we can see that p-value is 0.05. This means that probability of observed data happening by random chance/random sampling error is less than or equal to 0.05 which is same as alpha of 0.05. Hence, we can reject the null hypothesis and\n",
    "accept the alternate hypothesis. Hence, mean for Insured charges is not equal to mean of Noninsured charges. \n",
    "\n"
   ]
  },
  {
   "cell_type": "code",
   "execution_count": 42,
   "metadata": {},
   "outputs": [
    {
     "name": "stdout",
     "output_type": "stream",
     "text": [
      "Lowerbound for 95% confidence interval for (mean_insured_charges - mean_noninsured_charges): 6482.314950381734\n",
      "Upperbound for 95% confidence interval for (mean_insured_charges - mean_noninsured_charges): 8722.59115490405\n",
      "p-value =  0.5\n"
     ]
    },
    {
     "data": {
      "image/png": "[encoded data removed]",
      "text/plain": [
       "<Figure size 432x288 with 1 Axes>"
      ]
     },
     "metadata": {},
     "output_type": "display_data"
    }
   ],
   "source": [
    "#Draw 10000 bootstrap samples to estimate 95% confidence interval for differnce between means of Insured and \n",
    "#Noninsured charges\n",
    "\n",
    "np.random.seed(47)\n",
    "N_rep = 10000\n",
    "\n",
    "bootstrap_mean_diff = []\n",
    "for i in range(N_rep):\n",
    "    sample_med_charges_index = np.random.choice(med_charges.index,size=1338)\n",
    "    sample_med_charges = med_charges.iloc[sample_med_charges_index]\n",
    "    \n",
    "    sample_insured_charges_mean = sample_med_charges['charges'][sample_med_charges['insuranceclaim']==1].mean()\n",
    "    sample_noninsured_charges_mean = sample_med_charges['charges'][sample_med_charges['insuranceclaim']==0].mean()\n",
    "    \n",
    "    sample_mean_diff = sample_insured_charges_mean - sample_noninsured_charges_mean\n",
    "    \n",
    "    bootstrap_mean_diff.append(sample_mean_diff)\n",
    "    \n",
    "Lowerbound_95confidence_interval_mean_diff = np.percentile(bootstrap_mean_diff, q=2.5)\n",
    "print('Lowerbound for 95% confidence interval for (mean_insured_charges - mean_noninsured_charges):',Lowerbound_95confidence_interval_mean_diff)\n",
    "Upperbound_95confidence_interval_mean_diff = np.percentile(bootstrap_mean_diff, q=97.5)\n",
    "print('Upperbound for 95% confidence interval for (mean_insured_charges - mean_noninsured_charges):', Upperbound_95confidence_interval_mean_diff)\n",
    "    \n",
    "p_value = (sum(bootstrap_mean_diff>=Upperbound_95confidence_interval_mean_diff) + sum(bootstrap_mean_diff<= Lowerbound_95confidence_interval_mean_diff))/10000\n",
    "print('p-value = ',p_value)\n",
    "\n",
    "plt.hist(bootstrap_mean_diff,bins=50)\n",
    "plt.axvline(Lowerbound_95confidence_interval_mean_diff, color='r',linestyle='--')\n",
    "plt.axvline(Upperbound_95confidence_interval_mean_diff, color='r',linestyle='--')\n",
    "plt.xlabel(\"Difference between means of Insured and Noninsured charges\")\n",
    "plt.show()"
   ]
  },
  {
   "cell_type": "markdown",
   "metadata": {},
   "source": [
    "__Q:__ To put the above result in perspective, plot the histogram of your bootstrapped differences along with lines marking the locations of the observed difference. (Why would we plot more than one line, given that we only have one observed difference?)"
   ]
  },
  {
   "cell_type": "markdown",
   "metadata": {},
   "source": [
    "__A:__\n",
    "\n",
    "The dotted lines in the histogram below represent the lower and upperbound for 95% confidence interval obtained from bootstrap sampling. The solid line represents the observed difference. The dotted lines helps to see the 95% confidence interval around the solid line. "
   ]
  },
  {
   "cell_type": "code",
   "execution_count": 41,
   "metadata": {},
   "outputs": [
    {
     "data": {
      "image/png": "[encoded data removed]",
      "text/plain": [
       "<Figure size 432x288 with 1 Axes>"
      ]
     },
     "metadata": {},
     "output_type": "display_data"
    }
   ],
   "source": [
    "plt.hist(bootstrap_mean_diff,bins=50)\n",
    "plt.axvline(Lowerbound_95confidence_interval_mean_diff, color='r',linestyle='--')\n",
    "plt.axvline(Upperbound_95confidence_interval_mean_diff, color='r',linestyle='--')\n",
    "plt.axvline(med_charges['charges'][med_charges['insuranceclaim']==1].mean() - med_charges['charges'][med_charges['insuranceclaim']==0].mean(), color='r',linestyle='-')\n",
    "plt.xlabel(\"Difference between means of Insured and Noninsured charges\")\n",
    "plt.show()"
   ]
  },
  {
   "cell_type": "markdown",
   "metadata": {},
   "source": [
    "__Q:__ Compare your p-value above with that obtained using the _t_-test function in the previous assignment. Do you think you would want to try to perform enough bootstrap replicates to observe a random difference as large as that we did observe?"
   ]
  },
  {
   "cell_type": "markdown",
   "metadata": {},
   "source": [
    "__A:__\n",
    "\n",
    "P-value obtained from t-test in previous assignment < 0.00001, P-value obtained via bootstrap sampling = 0.05\n",
    "\n",
    "Based on numbers above, it would make sense to perform enough bootstrap replicates to observe a random difference as large as we observed."
   ]
  },
  {
   "cell_type": "markdown",
   "metadata": {},
   "source": [
    "__Q:__ Consider the two variants of the _t_-test we performed in the previous assignment. Which one would you use now?"
   ]
  },
  {
   "cell_type": "markdown",
   "metadata": {},
   "source": [
    "__A:__\n",
    "\n",
    "Since the standard deviations of Insured and Noninsured charges are not equal, we would use the variant of t-test which accounts for unequal variances of two independent samples. "
   ]
  },
  {
   "cell_type": "markdown",
   "metadata": {},
   "source": [
    "__Q:__ If, instead of being asked whether the means of two groups were different, you were working with an ad-recommender team who wanted to release a new recommendation algorithm, and you were looking at click-through rate both for the current algorithm (call it A) and from trials of their new algorithm (call it B), would you perform a two-sided test as above? What would be your null and alternative hypotheses and what would be the real-world consequence of rejecting the null hypothesis?"
   ]
  },
  {
   "cell_type": "markdown",
   "metadata": {},
   "source": [
    "__A:__\n",
    "\n",
    "For ad-recommender case, I would not perform a two-sided test as above because two-sided test would only tell whether click thru rate from algorithm A is different from that of B, NOT whether is higher or lower. \n",
    "\n",
    "My null hypothesis would be: Click thru rate of algorithm A >= Click thru rate of algorithm B,\n",
    "My alternate hypothesis would be: Click thru rate of algorithm A < Click thru rate of algorithm B\n",
    "\n",
    "Real world consequence of rejecting null hypothesis would be that the ad-recommender team would be able to experience benefites of higher click thru rate from algorithm B if indeed algorithm B was superior to algorithm A. "
   ]
  },
  {
   "cell_type": "markdown",
   "metadata": {},
   "source": [
    "# Learning outcomes\n",
    "\n",
    "You've previously applied frequentist methods to calculate confidence intervals, p-values, and perform hypothesis tests. Frequentist methods use theoretical results to calculate what we expect would happen if experiments were to be run again and again and again. Now you've seen how you can do the same things using the bootstrap approach, which does not rely on such theory, and attendant assumptions, but instead literally does run experiments again and again and again.\n",
    "\n",
    "In these exercises, you have:\n",
    "* calculated the same confidence interval lower limit as you did previously\n",
    "* tested the assumption that the variances of the two groups (insured vs. non-insured) were equal - something a bit harder to do using the frequentist method because of the nature of the sampling distribution for variance\n",
    "* calculated the p-value for the difference between the means of the two groups and compared with the result obtained using the previous frequentist approach\n",
    "\n",
    "You are now well equipped to apply the bootstrap approach to a wide variety of problems. Just think about what conditions you wish to recreate in your simulated reruns."
   ]
  }
 ],
 "metadata": {
  "kernelspec": {
   "display_name": "Python 3",
   "language": "python",
   "name": "python3"
  },
  "language_info": {
   "codemirror_mode": {
    "name": "ipython",
    "version": 3
   },
   "file_extension": ".py",
   "mimetype": "text/x-python",
   "name": "python",
   "nbconvert_exporter": "python",
   "pygments_lexer": "ipython3",
   "version": "3.6.1"
  }
 },
 "nbformat": 4,
 "nbformat_minor": 2
}
