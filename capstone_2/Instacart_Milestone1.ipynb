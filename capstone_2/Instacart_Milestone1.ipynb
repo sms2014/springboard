{
 "cells": [
  {
   "cell_type": "code",
   "execution_count": 2,
   "metadata": {
    "executionInfo": {
     "elapsed": 1231,
     "status": "ok",
     "timestamp": 1602048682789,
     "user": {
      "displayName": "Sanjiv Shrestha",
      "photoUrl": "https://lh3.googleusercontent.com/a-/AOh14GhGNMX9tdfRYxa2enZ0TjU-jMEKWwQyFZKgmHS5CQ=s64",
      "userId": "03722492109408791863"
     },
     "user_tz": -345
    },
    "id": "G-PzHF6cT28n"
   },
   "outputs": [],
   "source": [
    "# Import necessary libraries\n",
    "%matplotlib inline\n",
    "import pandas as pd\n",
    "import numpy as np\n",
    "import sklearn\n",
    "import matplotlib.pyplot as plt\n",
    "from mpl_toolkits.mplot3d import Axes3D\n",
    "import seaborn as sns"
   ]
  },
  {
   "cell_type": "code",
   "execution_count": 4,
   "metadata": {
    "executionInfo": {
     "elapsed": 18655,
     "status": "ok",
     "timestamp": 1602048712435,
     "user": {
      "displayName": "Sanjiv Shrestha",
      "photoUrl": "https://lh3.googleusercontent.com/a-/AOh14GhGNMX9tdfRYxa2enZ0TjU-jMEKWwQyFZKgmHS5CQ=s64",
      "userId": "03722492109408791863"
     },
     "user_tz": -345
    },
    "id": "EswGEM9fT287"
   },
   "outputs": [],
   "source": [
    "# Read in the data stored in various files into different pandas dataframes\n",
    "# For the purposes of this projects, only 5 dataframes are relevant. The dataframe NOT relevant is df_order_products_train\n",
    "df_aisles = pd.read_csv(\"./csv_files/aisles.csv\")\n",
    "df_departments = pd.read_csv(\"./csv_files/departments.csv\")\n",
    "df_orders = pd.read_csv(\"./csv_files/orders.csv\")\n",
    "df_products = pd.read_csv(\"./csv_files/products.csv\")\n",
    "df_order_products_prior = pd.read_csv(\"./csv_files/order_products__prior.csv\")\n",
    "df_order_products_train = pd.read_csv(\"./csv_files/order_products__train.csv\")\n"
   ]
  },
  {
   "cell_type": "markdown",
   "metadata": {
    "id": "I0MhtCF410XX"
   },
   "source": [
    "**Data cleaning/wrangling**"
   ]
  },
  {
   "cell_type": "code",
   "execution_count": 5,
   "metadata": {
    "colab": {
     "base_uri": "https://localhost:8080/"
    },
    "executionInfo": {
     "elapsed": 18491,
     "status": "ok",
     "timestamp": 1602048712442,
     "user": {
      "displayName": "Sanjiv Shrestha",
      "photoUrl": "https://lh3.googleusercontent.com/a-/AOh14GhGNMX9tdfRYxa2enZ0TjU-jMEKWwQyFZKgmHS5CQ=s64",
      "userId": "03722492109408791863"
     },
     "user_tz": -345
    },
    "id": "-lcGB5KQT29V",
    "outputId": "c8ec2fdb-10df-4286-8c50-b06864156cb8"
   },
   "outputs": [
    {
     "name": "stdout",
     "output_type": "stream",
     "text": [
      "Orders:\n",
      "<class 'pandas.core.frame.DataFrame'>\n",
      "RangeIndex: 3421083 entries, 0 to 3421082\n",
      "Data columns (total 7 columns):\n",
      " #   Column                  Dtype  \n",
      "---  ------                  -----  \n",
      " 0   order_id                int64  \n",
      " 1   user_id                 int64  \n",
      " 2   eval_set                object \n",
      " 3   order_number            int64  \n",
      " 4   order_dow               int64  \n",
      " 5   order_hour_of_day       int64  \n",
      " 6   days_since_prior_order  float64\n",
      "dtypes: float64(1), int64(5), object(1)\n",
      "memory usage: 182.7+ MB\n",
      "None \n",
      "\n",
      "Order products prior:\n",
      "<class 'pandas.core.frame.DataFrame'>\n",
      "RangeIndex: 32434489 entries, 0 to 32434488\n",
      "Data columns (total 4 columns):\n",
      " #   Column             Dtype\n",
      "---  ------             -----\n",
      " 0   order_id           int64\n",
      " 1   product_id         int64\n",
      " 2   add_to_cart_order  int64\n",
      " 3   reordered          int64\n",
      "dtypes: int64(4)\n",
      "memory usage: 989.8 MB\n",
      "None \n",
      "\n",
      "Products:\n",
      "<class 'pandas.core.frame.DataFrame'>\n",
      "RangeIndex: 49688 entries, 0 to 49687\n",
      "Data columns (total 4 columns):\n",
      " #   Column         Non-Null Count  Dtype \n",
      "---  ------         --------------  ----- \n",
      " 0   product_id     49688 non-null  int64 \n",
      " 1   product_name   49688 non-null  object\n",
      " 2   aisle_id       49688 non-null  int64 \n",
      " 3   department_id  49688 non-null  int64 \n",
      "dtypes: int64(3), object(1)\n",
      "memory usage: 1.5+ MB\n",
      "None \n",
      "\n",
      "Aisles:\n",
      "<class 'pandas.core.frame.DataFrame'>\n",
      "RangeIndex: 134 entries, 0 to 133\n",
      "Data columns (total 2 columns):\n",
      " #   Column    Non-Null Count  Dtype \n",
      "---  ------    --------------  ----- \n",
      " 0   aisle_id  134 non-null    int64 \n",
      " 1   aisle     134 non-null    object\n",
      "dtypes: int64(1), object(1)\n",
      "memory usage: 2.2+ KB\n",
      "None \n",
      "\n",
      "Departments:\n",
      "<class 'pandas.core.frame.DataFrame'>\n",
      "RangeIndex: 21 entries, 0 to 20\n",
      "Data columns (total 2 columns):\n",
      " #   Column         Non-Null Count  Dtype \n",
      "---  ------         --------------  ----- \n",
      " 0   department_id  21 non-null     int64 \n",
      " 1   department     21 non-null     object\n",
      "dtypes: int64(1), object(1)\n",
      "memory usage: 464.0+ bytes\n",
      "None \n",
      "\n"
     ]
    }
   ],
   "source": [
    "# Look at structure of each dataframe\n",
    "print('Orders:')\n",
    "print(df_orders.info(), '\\n')\n",
    "print('Order products prior:')\n",
    "print(df_order_products_prior.info(), '\\n')\n",
    "print('Products:')\n",
    "print(df_products.info(), '\\n')\n",
    "print('Aisles:')\n",
    "print(df_aisles.info(), '\\n')\n",
    "print('Departments:')\n",
    "print(df_departments.info(), '\\n')"
   ]
  },
  {
   "cell_type": "code",
   "execution_count": 6,
   "metadata": {
    "colab": {
     "base_uri": "https://localhost:8080/"
    },
    "executionInfo": {
     "elapsed": 18451,
     "status": "ok",
     "timestamp": 1602048712443,
     "user": {
      "displayName": "Sanjiv Shrestha",
      "photoUrl": "https://lh3.googleusercontent.com/a-/AOh14GhGNMX9tdfRYxa2enZ0TjU-jMEKWwQyFZKgmHS5CQ=s64",
      "userId": "03722492109408791863"
     },
     "user_tz": -345
    },
    "id": "h09K657YlHnL",
    "outputId": "a2fc8757-ef5e-46ba-d008-2b6d0a482b4f"
   },
   "outputs": [
    {
     "data": {
      "text/plain": [
       "order_id                       0\n",
       "user_id                        0\n",
       "eval_set                       0\n",
       "order_number                   0\n",
       "order_dow                      0\n",
       "order_hour_of_day              0\n",
       "days_since_prior_order    206209\n",
       "dtype: int64"
      ]
     },
     "execution_count": 6,
     "metadata": {
      "tags": []
     },
     "output_type": "execute_result"
    }
   ],
   "source": [
    "#Based on results above, all dataframes have non-null values except for df_orders and df_order_products_prior. \n",
    "# Check for null values for these two dataframes\n",
    "df_orders.isna().sum()"
   ]
  },
  {
   "cell_type": "code",
   "execution_count": 7,
   "metadata": {
    "colab": {
     "base_uri": "https://localhost:8080/"
    },
    "executionInfo": {
     "elapsed": 18406,
     "status": "ok",
     "timestamp": 1602048712445,
     "user": {
      "displayName": "Sanjiv Shrestha",
      "photoUrl": "https://lh3.googleusercontent.com/a-/AOh14GhGNMX9tdfRYxa2enZ0TjU-jMEKWwQyFZKgmHS5CQ=s64",
      "userId": "03722492109408791863"
     },
     "user_tz": -345
    },
    "id": "z4ZRB7YIlL-g",
    "outputId": "c7202a55-0d79-4655-e3f1-17b7ba38592f"
   },
   "outputs": [
    {
     "data": {
      "text/plain": [
       "order_id             0\n",
       "product_id           0\n",
       "add_to_cart_order    0\n",
       "reordered            0\n",
       "dtype: int64"
      ]
     },
     "execution_count": 7,
     "metadata": {
      "tags": []
     },
     "output_type": "execute_result"
    }
   ],
   "source": [
    "# Check for null values\n",
    "df_order_products_prior.isna().sum()"
   ]
  },
  {
   "cell_type": "markdown",
   "metadata": {
    "id": "O9i22R-TshVz"
   },
   "source": [
    "From results above, the dataframe df_orders has null or NaN values in its \"days_since_prior_order\" column which would need to be treated.\n",
    "\n"
   ]
  },
  {
   "cell_type": "code",
   "execution_count": 8,
   "metadata": {
    "executionInfo": {
     "elapsed": 18397,
     "status": "ok",
     "timestamp": 1602048712448,
     "user": {
      "displayName": "Sanjiv Shrestha",
      "photoUrl": "https://lh3.googleusercontent.com/a-/AOh14GhGNMX9tdfRYxa2enZ0TjU-jMEKWwQyFZKgmHS5CQ=s64",
      "userId": "03722492109408791863"
     },
     "user_tz": -345
    },
    "id": "jzoitN056Qai"
   },
   "outputs": [],
   "source": [
    "# Remove rows containing NaN values for column \"days_since_prior_order\" since this was the only column with NaN values\n",
    "df_orders_clean = df_orders.dropna(subset = [\"days_since_prior_order\"])"
   ]
  },
  {
   "cell_type": "code",
   "execution_count": 9,
   "metadata": {
    "colab": {
     "base_uri": "https://localhost:8080/"
    },
    "executionInfo": {
     "elapsed": 19199,
     "status": "ok",
     "timestamp": 1602048713303,
     "user": {
      "displayName": "Sanjiv Shrestha",
      "photoUrl": "https://lh3.googleusercontent.com/a-/AOh14GhGNMX9tdfRYxa2enZ0TjU-jMEKWwQyFZKgmHS5CQ=s64",
      "userId": "03722492109408791863"
     },
     "user_tz": -345
    },
    "id": "Ukzcm0cl7feE",
    "outputId": "05dd320e-5db6-43df-9a60-106cb3459e8f"
   },
   "outputs": [
    {
     "data": {
      "text/plain": [
       "order_id                  0\n",
       "user_id                   0\n",
       "eval_set                  0\n",
       "order_number              0\n",
       "order_dow                 0\n",
       "order_hour_of_day         0\n",
       "days_since_prior_order    0\n",
       "dtype: int64"
      ]
     },
     "execution_count": 9,
     "metadata": {
      "tags": []
     },
     "output_type": "execute_result"
    }
   ],
   "source": [
    "#Check to see that NaN values were removed\n",
    "df_orders_clean.isna().sum()"
   ]
  },
  {
   "cell_type": "code",
   "execution_count": 10,
   "metadata": {
    "colab": {
     "base_uri": "https://localhost:8080/"
    },
    "executionInfo": {
     "elapsed": 19142,
     "status": "ok",
     "timestamp": 1602048713305,
     "user": {
      "displayName": "Sanjiv Shrestha",
      "photoUrl": "https://lh3.googleusercontent.com/a-/AOh14GhGNMX9tdfRYxa2enZ0TjU-jMEKWwQyFZKgmHS5CQ=s64",
      "userId": "03722492109408791863"
     },
     "user_tz": -345
    },
    "id": "3yPY_OpVxCwr",
    "outputId": "f673ca46-56ab-4eaf-c12f-d40ea94b818c"
   },
   "outputs": [
    {
     "data": {
      "text/plain": [
       "3421083"
      ]
     },
     "execution_count": 10,
     "metadata": {
      "tags": []
     },
     "output_type": "execute_result"
    }
   ],
   "source": [
    "df_orders.order_id.nunique()"
   ]
  },
  {
   "cell_type": "code",
   "execution_count": 11,
   "metadata": {
    "colab": {
     "base_uri": "https://localhost:8080/",
     "height": 306
    },
    "executionInfo": {
     "elapsed": 19554,
     "status": "ok",
     "timestamp": 1602048713794,
     "user": {
      "displayName": "Sanjiv Shrestha",
      "photoUrl": "https://lh3.googleusercontent.com/a-/AOh14GhGNMX9tdfRYxa2enZ0TjU-jMEKWwQyFZKgmHS5CQ=s64",
      "userId": "03722492109408791863"
     },
     "user_tz": -345
    },
    "id": "fsAtwqwgT29q",
    "outputId": "79ccae21-4676-40d9-fd3c-d9cc9a145113"
   },
   "outputs": [
    {
     "name": "stdout",
     "output_type": "stream",
     "text": [
      "Orders:\n"
     ]
    },
    {
     "data": {
      "text/html": [
       "<div>\n",
       "<style scoped>\n",
       "    .dataframe tbody tr th:only-of-type {\n",
       "        vertical-align: middle;\n",
       "    }\n",
       "\n",
       "    .dataframe tbody tr th {\n",
       "        vertical-align: top;\n",
       "    }\n",
       "\n",
       "    .dataframe thead th {\n",
       "        text-align: right;\n",
       "    }\n",
       "</style>\n",
       "<table border=\"1\" class=\"dataframe\">\n",
       "  <thead>\n",
       "    <tr style=\"text-align: right;\">\n",
       "      <th></th>\n",
       "      <th>order_id</th>\n",
       "      <th>user_id</th>\n",
       "      <th>order_number</th>\n",
       "      <th>order_dow</th>\n",
       "      <th>order_hour_of_day</th>\n",
       "      <th>days_since_prior_order</th>\n",
       "    </tr>\n",
       "  </thead>\n",
       "  <tbody>\n",
       "    <tr>\n",
       "      <th>count</th>\n",
       "      <td>3.421083e+06</td>\n",
       "      <td>3.421083e+06</td>\n",
       "      <td>3.421083e+06</td>\n",
       "      <td>3.421083e+06</td>\n",
       "      <td>3.421083e+06</td>\n",
       "      <td>3.214874e+06</td>\n",
       "    </tr>\n",
       "    <tr>\n",
       "      <th>mean</th>\n",
       "      <td>1.710542e+06</td>\n",
       "      <td>1.029782e+05</td>\n",
       "      <td>1.715486e+01</td>\n",
       "      <td>2.776219e+00</td>\n",
       "      <td>1.345202e+01</td>\n",
       "      <td>1.111484e+01</td>\n",
       "    </tr>\n",
       "    <tr>\n",
       "      <th>std</th>\n",
       "      <td>9.875817e+05</td>\n",
       "      <td>5.953372e+04</td>\n",
       "      <td>1.773316e+01</td>\n",
       "      <td>2.046829e+00</td>\n",
       "      <td>4.226088e+00</td>\n",
       "      <td>9.206737e+00</td>\n",
       "    </tr>\n",
       "    <tr>\n",
       "      <th>min</th>\n",
       "      <td>1.000000e+00</td>\n",
       "      <td>1.000000e+00</td>\n",
       "      <td>1.000000e+00</td>\n",
       "      <td>0.000000e+00</td>\n",
       "      <td>0.000000e+00</td>\n",
       "      <td>0.000000e+00</td>\n",
       "    </tr>\n",
       "    <tr>\n",
       "      <th>25%</th>\n",
       "      <td>8.552715e+05</td>\n",
       "      <td>5.139400e+04</td>\n",
       "      <td>5.000000e+00</td>\n",
       "      <td>1.000000e+00</td>\n",
       "      <td>1.000000e+01</td>\n",
       "      <td>4.000000e+00</td>\n",
       "    </tr>\n",
       "    <tr>\n",
       "      <th>50%</th>\n",
       "      <td>1.710542e+06</td>\n",
       "      <td>1.026890e+05</td>\n",
       "      <td>1.100000e+01</td>\n",
       "      <td>3.000000e+00</td>\n",
       "      <td>1.300000e+01</td>\n",
       "      <td>7.000000e+00</td>\n",
       "    </tr>\n",
       "    <tr>\n",
       "      <th>75%</th>\n",
       "      <td>2.565812e+06</td>\n",
       "      <td>1.543850e+05</td>\n",
       "      <td>2.300000e+01</td>\n",
       "      <td>5.000000e+00</td>\n",
       "      <td>1.600000e+01</td>\n",
       "      <td>1.500000e+01</td>\n",
       "    </tr>\n",
       "    <tr>\n",
       "      <th>max</th>\n",
       "      <td>3.421083e+06</td>\n",
       "      <td>2.062090e+05</td>\n",
       "      <td>1.000000e+02</td>\n",
       "      <td>6.000000e+00</td>\n",
       "      <td>2.300000e+01</td>\n",
       "      <td>3.000000e+01</td>\n",
       "    </tr>\n",
       "  </tbody>\n",
       "</table>\n",
       "</div>"
      ],
      "text/plain": [
       "           order_id       user_id  ...  order_hour_of_day  days_since_prior_order\n",
       "count  3.421083e+06  3.421083e+06  ...       3.421083e+06            3.214874e+06\n",
       "mean   1.710542e+06  1.029782e+05  ...       1.345202e+01            1.111484e+01\n",
       "std    9.875817e+05  5.953372e+04  ...       4.226088e+00            9.206737e+00\n",
       "min    1.000000e+00  1.000000e+00  ...       0.000000e+00            0.000000e+00\n",
       "25%    8.552715e+05  5.139400e+04  ...       1.000000e+01            4.000000e+00\n",
       "50%    1.710542e+06  1.026890e+05  ...       1.300000e+01            7.000000e+00\n",
       "75%    2.565812e+06  1.543850e+05  ...       1.600000e+01            1.500000e+01\n",
       "max    3.421083e+06  2.062090e+05  ...       2.300000e+01            3.000000e+01\n",
       "\n",
       "[8 rows x 6 columns]"
      ]
     },
     "execution_count": 11,
     "metadata": {
      "tags": []
     },
     "output_type": "execute_result"
    }
   ],
   "source": [
    "# Look at summary stats for dataframes\n",
    "print('Orders:')\n",
    "df_orders.describe()"
   ]
  },
  {
   "cell_type": "markdown",
   "metadata": {
    "id": "l6tHCfWuvpcW"
   },
   "source": [
    "From results above, min and max values for all the columns seem reasonable. There are no outliers or bad/incorrect data points that need to be treated.\n",
    "\n",
    "1. order_id : goes from 1 to about 3.4M\n",
    "2. user id : goes from 1 to about 200K\n",
    "3. order_number : goes from 1 to about 100 which seems reasonable (a user can have made upto 100 orders to instacart in his/her history)\n",
    "4. order_dow : goes from 0 to 6 which is resonable ( day of the week for order can have any of the 7 possible values)\n",
    "5. order_hour_of_day : goes from 0 to 23 which is reasonable (hour of the day for order can have any of the 24 possible values)\n",
    "6. days_since_prior_order : goes from 0 to 30 which is reasonable (days since user last made the order can have any of the 31 possible values)"
   ]
  },
  {
   "cell_type": "code",
   "execution_count": 12,
   "metadata": {
    "colab": {
     "base_uri": "https://localhost:8080/",
     "height": 306
    },
    "executionInfo": {
     "elapsed": 21551,
     "status": "ok",
     "timestamp": 1602048715870,
     "user": {
      "displayName": "Sanjiv Shrestha",
      "photoUrl": "https://lh3.googleusercontent.com/a-/AOh14GhGNMX9tdfRYxa2enZ0TjU-jMEKWwQyFZKgmHS5CQ=s64",
      "userId": "03722492109408791863"
     },
     "user_tz": -345
    },
    "id": "B9UTle7MuMh5",
    "outputId": "a17167ac-810f-4c51-fa2e-3aee36cdfb86"
   },
   "outputs": [
    {
     "name": "stdout",
     "output_type": "stream",
     "text": [
      "Order products prior:\n"
     ]
    },
    {
     "data": {
      "text/html": [
       "<div>\n",
       "<style scoped>\n",
       "    .dataframe tbody tr th:only-of-type {\n",
       "        vertical-align: middle;\n",
       "    }\n",
       "\n",
       "    .dataframe tbody tr th {\n",
       "        vertical-align: top;\n",
       "    }\n",
       "\n",
       "    .dataframe thead th {\n",
       "        text-align: right;\n",
       "    }\n",
       "</style>\n",
       "<table border=\"1\" class=\"dataframe\">\n",
       "  <thead>\n",
       "    <tr style=\"text-align: right;\">\n",
       "      <th></th>\n",
       "      <th>order_id</th>\n",
       "      <th>product_id</th>\n",
       "      <th>add_to_cart_order</th>\n",
       "      <th>reordered</th>\n",
       "    </tr>\n",
       "  </thead>\n",
       "  <tbody>\n",
       "    <tr>\n",
       "      <th>count</th>\n",
       "      <td>3.243449e+07</td>\n",
       "      <td>3.243449e+07</td>\n",
       "      <td>3.243449e+07</td>\n",
       "      <td>3.243449e+07</td>\n",
       "    </tr>\n",
       "    <tr>\n",
       "      <th>mean</th>\n",
       "      <td>1.710749e+06</td>\n",
       "      <td>2.557634e+04</td>\n",
       "      <td>8.351076e+00</td>\n",
       "      <td>5.896975e-01</td>\n",
       "    </tr>\n",
       "    <tr>\n",
       "      <th>std</th>\n",
       "      <td>9.873007e+05</td>\n",
       "      <td>1.409669e+04</td>\n",
       "      <td>7.126671e+00</td>\n",
       "      <td>4.918886e-01</td>\n",
       "    </tr>\n",
       "    <tr>\n",
       "      <th>min</th>\n",
       "      <td>2.000000e+00</td>\n",
       "      <td>1.000000e+00</td>\n",
       "      <td>1.000000e+00</td>\n",
       "      <td>0.000000e+00</td>\n",
       "    </tr>\n",
       "    <tr>\n",
       "      <th>25%</th>\n",
       "      <td>8.559430e+05</td>\n",
       "      <td>1.353000e+04</td>\n",
       "      <td>3.000000e+00</td>\n",
       "      <td>0.000000e+00</td>\n",
       "    </tr>\n",
       "    <tr>\n",
       "      <th>50%</th>\n",
       "      <td>1.711048e+06</td>\n",
       "      <td>2.525600e+04</td>\n",
       "      <td>6.000000e+00</td>\n",
       "      <td>1.000000e+00</td>\n",
       "    </tr>\n",
       "    <tr>\n",
       "      <th>75%</th>\n",
       "      <td>2.565514e+06</td>\n",
       "      <td>3.793500e+04</td>\n",
       "      <td>1.100000e+01</td>\n",
       "      <td>1.000000e+00</td>\n",
       "    </tr>\n",
       "    <tr>\n",
       "      <th>max</th>\n",
       "      <td>3.421083e+06</td>\n",
       "      <td>4.968800e+04</td>\n",
       "      <td>1.450000e+02</td>\n",
       "      <td>1.000000e+00</td>\n",
       "    </tr>\n",
       "  </tbody>\n",
       "</table>\n",
       "</div>"
      ],
      "text/plain": [
       "           order_id    product_id  add_to_cart_order     reordered\n",
       "count  3.243449e+07  3.243449e+07       3.243449e+07  3.243449e+07\n",
       "mean   1.710749e+06  2.557634e+04       8.351076e+00  5.896975e-01\n",
       "std    9.873007e+05  1.409669e+04       7.126671e+00  4.918886e-01\n",
       "min    2.000000e+00  1.000000e+00       1.000000e+00  0.000000e+00\n",
       "25%    8.559430e+05  1.353000e+04       3.000000e+00  0.000000e+00\n",
       "50%    1.711048e+06  2.525600e+04       6.000000e+00  1.000000e+00\n",
       "75%    2.565514e+06  3.793500e+04       1.100000e+01  1.000000e+00\n",
       "max    3.421083e+06  4.968800e+04       1.450000e+02  1.000000e+00"
      ]
     },
     "execution_count": 12,
     "metadata": {
      "tags": []
     },
     "output_type": "execute_result"
    }
   ],
   "source": [
    "print('Order products prior:')\n",
    "df_order_products_prior.describe()"
   ]
  },
  {
   "cell_type": "markdown",
   "metadata": {
    "id": "PgoQt0-JyMYp"
   },
   "source": [
    "From results above, min and max values for all columns seem reasonable. There are no outliers or bad/incorrect data points that need to be treated:\n",
    "\n",
    "  1. product_id : goes from 1 to about 49K which is reasonable (it is possible to have product offerings of upto 50K given all the grocery stores tha Instacart has partnered with)\n",
    "  2. add_to_cart_order : goes from 1 to 145 which is reasonable (it is possible for a user to have upto 145 products in any specific order)\n",
    "  3. reordered : goes from 0 to 1 which is reasonable ( this indicates whether a given product item in an order was reordered or not)\n",
    "  "
   ]
  },
  {
   "cell_type": "code",
   "execution_count": 13,
   "metadata": {
    "colab": {
     "base_uri": "https://localhost:8080/",
     "height": 306
    },
    "executionInfo": {
     "elapsed": 21485,
     "status": "ok",
     "timestamp": 1602048715873,
     "user": {
      "displayName": "Sanjiv Shrestha",
      "photoUrl": "https://lh3.googleusercontent.com/a-/AOh14GhGNMX9tdfRYxa2enZ0TjU-jMEKWwQyFZKgmHS5CQ=s64",
      "userId": "03722492109408791863"
     },
     "user_tz": -345
    },
    "id": "ZRSB_PgBz3bm",
    "outputId": "1c826815-85fa-46fe-be11-ba439764996e"
   },
   "outputs": [
    {
     "name": "stdout",
     "output_type": "stream",
     "text": [
      "Products:\n"
     ]
    },
    {
     "data": {
      "text/html": [
       "<div>\n",
       "<style scoped>\n",
       "    .dataframe tbody tr th:only-of-type {\n",
       "        vertical-align: middle;\n",
       "    }\n",
       "\n",
       "    .dataframe tbody tr th {\n",
       "        vertical-align: top;\n",
       "    }\n",
       "\n",
       "    .dataframe thead th {\n",
       "        text-align: right;\n",
       "    }\n",
       "</style>\n",
       "<table border=\"1\" class=\"dataframe\">\n",
       "  <thead>\n",
       "    <tr style=\"text-align: right;\">\n",
       "      <th></th>\n",
       "      <th>product_id</th>\n",
       "      <th>aisle_id</th>\n",
       "      <th>department_id</th>\n",
       "    </tr>\n",
       "  </thead>\n",
       "  <tbody>\n",
       "    <tr>\n",
       "      <th>count</th>\n",
       "      <td>49688.000000</td>\n",
       "      <td>49688.000000</td>\n",
       "      <td>49688.000000</td>\n",
       "    </tr>\n",
       "    <tr>\n",
       "      <th>mean</th>\n",
       "      <td>24844.500000</td>\n",
       "      <td>67.769582</td>\n",
       "      <td>11.728687</td>\n",
       "    </tr>\n",
       "    <tr>\n",
       "      <th>std</th>\n",
       "      <td>14343.834425</td>\n",
       "      <td>38.316162</td>\n",
       "      <td>5.850410</td>\n",
       "    </tr>\n",
       "    <tr>\n",
       "      <th>min</th>\n",
       "      <td>1.000000</td>\n",
       "      <td>1.000000</td>\n",
       "      <td>1.000000</td>\n",
       "    </tr>\n",
       "    <tr>\n",
       "      <th>25%</th>\n",
       "      <td>12422.750000</td>\n",
       "      <td>35.000000</td>\n",
       "      <td>7.000000</td>\n",
       "    </tr>\n",
       "    <tr>\n",
       "      <th>50%</th>\n",
       "      <td>24844.500000</td>\n",
       "      <td>69.000000</td>\n",
       "      <td>13.000000</td>\n",
       "    </tr>\n",
       "    <tr>\n",
       "      <th>75%</th>\n",
       "      <td>37266.250000</td>\n",
       "      <td>100.000000</td>\n",
       "      <td>17.000000</td>\n",
       "    </tr>\n",
       "    <tr>\n",
       "      <th>max</th>\n",
       "      <td>49688.000000</td>\n",
       "      <td>134.000000</td>\n",
       "      <td>21.000000</td>\n",
       "    </tr>\n",
       "  </tbody>\n",
       "</table>\n",
       "</div>"
      ],
      "text/plain": [
       "         product_id      aisle_id  department_id\n",
       "count  49688.000000  49688.000000   49688.000000\n",
       "mean   24844.500000     67.769582      11.728687\n",
       "std    14343.834425     38.316162       5.850410\n",
       "min        1.000000      1.000000       1.000000\n",
       "25%    12422.750000     35.000000       7.000000\n",
       "50%    24844.500000     69.000000      13.000000\n",
       "75%    37266.250000    100.000000      17.000000\n",
       "max    49688.000000    134.000000      21.000000"
      ]
     },
     "execution_count": 13,
     "metadata": {
      "tags": []
     },
     "output_type": "execute_result"
    }
   ],
   "source": [
    "print('Products:')\n",
    "df_products.describe()"
   ]
  },
  {
   "cell_type": "markdown",
   "metadata": {
    "id": "fTjpzvnezvAG"
   },
   "source": [
    "From results above, min and max values for all columns seem reasonable. There are no outliers or bad/incorrect data points that need to be treated:\n",
    "  1. aisle_id : goes from 1 to 134 which is reasonable (it is possible for a grocery store to have upto 134 aisles)\n",
    "  2. department_id: goes from 1 to 21 which is reasonable ( it is possible for a grocery store to have upto 21 departments)\n",
    "  "
   ]
  },
  {
   "cell_type": "code",
   "execution_count": 14,
   "metadata": {
    "colab": {
     "base_uri": "https://localhost:8080/",
     "height": 306
    },
    "executionInfo": {
     "elapsed": 21415,
     "status": "ok",
     "timestamp": 1602048715876,
     "user": {
      "displayName": "Sanjiv Shrestha",
      "photoUrl": "https://lh3.googleusercontent.com/a-/AOh14GhGNMX9tdfRYxa2enZ0TjU-jMEKWwQyFZKgmHS5CQ=s64",
      "userId": "03722492109408791863"
     },
     "user_tz": -345
    },
    "id": "64Yb4zOLuXcX",
    "outputId": "7cf91f80-493a-48ee-d92b-1cc97e728e71"
   },
   "outputs": [
    {
     "name": "stdout",
     "output_type": "stream",
     "text": [
      "Aisles:\n"
     ]
    },
    {
     "data": {
      "text/html": [
       "<div>\n",
       "<style scoped>\n",
       "    .dataframe tbody tr th:only-of-type {\n",
       "        vertical-align: middle;\n",
       "    }\n",
       "\n",
       "    .dataframe tbody tr th {\n",
       "        vertical-align: top;\n",
       "    }\n",
       "\n",
       "    .dataframe thead th {\n",
       "        text-align: right;\n",
       "    }\n",
       "</style>\n",
       "<table border=\"1\" class=\"dataframe\">\n",
       "  <thead>\n",
       "    <tr style=\"text-align: right;\">\n",
       "      <th></th>\n",
       "      <th>aisle_id</th>\n",
       "    </tr>\n",
       "  </thead>\n",
       "  <tbody>\n",
       "    <tr>\n",
       "      <th>count</th>\n",
       "      <td>134.000000</td>\n",
       "    </tr>\n",
       "    <tr>\n",
       "      <th>mean</th>\n",
       "      <td>67.500000</td>\n",
       "    </tr>\n",
       "    <tr>\n",
       "      <th>std</th>\n",
       "      <td>38.826537</td>\n",
       "    </tr>\n",
       "    <tr>\n",
       "      <th>min</th>\n",
       "      <td>1.000000</td>\n",
       "    </tr>\n",
       "    <tr>\n",
       "      <th>25%</th>\n",
       "      <td>34.250000</td>\n",
       "    </tr>\n",
       "    <tr>\n",
       "      <th>50%</th>\n",
       "      <td>67.500000</td>\n",
       "    </tr>\n",
       "    <tr>\n",
       "      <th>75%</th>\n",
       "      <td>100.750000</td>\n",
       "    </tr>\n",
       "    <tr>\n",
       "      <th>max</th>\n",
       "      <td>134.000000</td>\n",
       "    </tr>\n",
       "  </tbody>\n",
       "</table>\n",
       "</div>"
      ],
      "text/plain": [
       "         aisle_id\n",
       "count  134.000000\n",
       "mean    67.500000\n",
       "std     38.826537\n",
       "min      1.000000\n",
       "25%     34.250000\n",
       "50%     67.500000\n",
       "75%    100.750000\n",
       "max    134.000000"
      ]
     },
     "execution_count": 14,
     "metadata": {
      "tags": []
     },
     "output_type": "execute_result"
    }
   ],
   "source": [
    "print('Aisles:')\n",
    "df_aisles.describe()"
   ]
  },
  {
   "cell_type": "code",
   "execution_count": 15,
   "metadata": {
    "colab": {
     "base_uri": "https://localhost:8080/",
     "height": 306
    },
    "executionInfo": {
     "elapsed": 21342,
     "status": "ok",
     "timestamp": 1602048715879,
     "user": {
      "displayName": "Sanjiv Shrestha",
      "photoUrl": "https://lh3.googleusercontent.com/a-/AOh14GhGNMX9tdfRYxa2enZ0TjU-jMEKWwQyFZKgmHS5CQ=s64",
      "userId": "03722492109408791863"
     },
     "user_tz": -345
    },
    "id": "JD5-IkQmufsm",
    "outputId": "44586ab2-5904-4be6-e9df-d3a79612e975"
   },
   "outputs": [
    {
     "name": "stdout",
     "output_type": "stream",
     "text": [
      "Departments:\n"
     ]
    },
    {
     "data": {
      "text/html": [
       "<div>\n",
       "<style scoped>\n",
       "    .dataframe tbody tr th:only-of-type {\n",
       "        vertical-align: middle;\n",
       "    }\n",
       "\n",
       "    .dataframe tbody tr th {\n",
       "        vertical-align: top;\n",
       "    }\n",
       "\n",
       "    .dataframe thead th {\n",
       "        text-align: right;\n",
       "    }\n",
       "</style>\n",
       "<table border=\"1\" class=\"dataframe\">\n",
       "  <thead>\n",
       "    <tr style=\"text-align: right;\">\n",
       "      <th></th>\n",
       "      <th>department_id</th>\n",
       "    </tr>\n",
       "  </thead>\n",
       "  <tbody>\n",
       "    <tr>\n",
       "      <th>count</th>\n",
       "      <td>21.000000</td>\n",
       "    </tr>\n",
       "    <tr>\n",
       "      <th>mean</th>\n",
       "      <td>11.000000</td>\n",
       "    </tr>\n",
       "    <tr>\n",
       "      <th>std</th>\n",
       "      <td>6.204837</td>\n",
       "    </tr>\n",
       "    <tr>\n",
       "      <th>min</th>\n",
       "      <td>1.000000</td>\n",
       "    </tr>\n",
       "    <tr>\n",
       "      <th>25%</th>\n",
       "      <td>6.000000</td>\n",
       "    </tr>\n",
       "    <tr>\n",
       "      <th>50%</th>\n",
       "      <td>11.000000</td>\n",
       "    </tr>\n",
       "    <tr>\n",
       "      <th>75%</th>\n",
       "      <td>16.000000</td>\n",
       "    </tr>\n",
       "    <tr>\n",
       "      <th>max</th>\n",
       "      <td>21.000000</td>\n",
       "    </tr>\n",
       "  </tbody>\n",
       "</table>\n",
       "</div>"
      ],
      "text/plain": [
       "       department_id\n",
       "count      21.000000\n",
       "mean       11.000000\n",
       "std         6.204837\n",
       "min         1.000000\n",
       "25%         6.000000\n",
       "50%        11.000000\n",
       "75%        16.000000\n",
       "max        21.000000"
      ]
     },
     "execution_count": 15,
     "metadata": {
      "tags": []
     },
     "output_type": "execute_result"
    }
   ],
   "source": [
    "print('Departments:')\n",
    "df_departments.describe()"
   ]
  },
  {
   "cell_type": "markdown",
   "metadata": {
    "id": "1H1hzr2h_NYu"
   },
   "source": [
    "Summarizing results above, \n",
    "\n",
    "1. There are about 3.4 million unique orders\n",
    "2. There are about 200K users\n",
    "3. There are about 50K products\n",
    "4. There are 134 aisles\n",
    "5. There are 21 departments"
   ]
  },
  {
   "cell_type": "markdown",
   "metadata": {
    "id": "yQsUfzdk3_X7"
   },
   "source": [
    "**Data processing**"
   ]
  },
  {
   "cell_type": "code",
   "execution_count": 16,
   "metadata": {
    "colab": {
     "base_uri": "https://localhost:8080/",
     "height": 325
    },
    "executionInfo": {
     "elapsed": 21295,
     "status": "ok",
     "timestamp": 1602048715881,
     "user": {
      "displayName": "Sanjiv Shrestha",
      "photoUrl": "https://lh3.googleusercontent.com/a-/AOh14GhGNMX9tdfRYxa2enZ0TjU-jMEKWwQyFZKgmHS5CQ=s64",
      "userId": "03722492109408791863"
     },
     "user_tz": -345
    },
    "id": "wpOZOOg8T3AP",
    "outputId": "10cd6797-4145-4287-bbeb-499c31e9386f"
   },
   "outputs": [
    {
     "name": "stdout",
     "output_type": "stream",
     "text": [
      "Num of orders in df_orders: 3421083\n",
      "Num of UNIQUE orders in df_orders: 3421083\n",
      "Num of orders in different sets: \n",
      " prior    3214874\n",
      "train     131209\n",
      "test       75000\n",
      "Name: eval_set, dtype: int64\n"
     ]
    },
    {
     "data": {
      "text/html": [
       "<div>\n",
       "<style scoped>\n",
       "    .dataframe tbody tr th:only-of-type {\n",
       "        vertical-align: middle;\n",
       "    }\n",
       "\n",
       "    .dataframe tbody tr th {\n",
       "        vertical-align: top;\n",
       "    }\n",
       "\n",
       "    .dataframe thead th {\n",
       "        text-align: right;\n",
       "    }\n",
       "</style>\n",
       "<table border=\"1\" class=\"dataframe\">\n",
       "  <thead>\n",
       "    <tr style=\"text-align: right;\">\n",
       "      <th></th>\n",
       "      <th>order_id</th>\n",
       "      <th>user_id</th>\n",
       "      <th>eval_set</th>\n",
       "      <th>order_number</th>\n",
       "      <th>order_dow</th>\n",
       "      <th>order_hour_of_day</th>\n",
       "      <th>days_since_prior_order</th>\n",
       "    </tr>\n",
       "  </thead>\n",
       "  <tbody>\n",
       "    <tr>\n",
       "      <th>0</th>\n",
       "      <td>2539329</td>\n",
       "      <td>1</td>\n",
       "      <td>prior</td>\n",
       "      <td>1</td>\n",
       "      <td>2</td>\n",
       "      <td>8</td>\n",
       "      <td>NaN</td>\n",
       "    </tr>\n",
       "    <tr>\n",
       "      <th>1</th>\n",
       "      <td>2398795</td>\n",
       "      <td>1</td>\n",
       "      <td>prior</td>\n",
       "      <td>2</td>\n",
       "      <td>3</td>\n",
       "      <td>7</td>\n",
       "      <td>15.0</td>\n",
       "    </tr>\n",
       "    <tr>\n",
       "      <th>2</th>\n",
       "      <td>473747</td>\n",
       "      <td>1</td>\n",
       "      <td>prior</td>\n",
       "      <td>3</td>\n",
       "      <td>3</td>\n",
       "      <td>12</td>\n",
       "      <td>21.0</td>\n",
       "    </tr>\n",
       "    <tr>\n",
       "      <th>3</th>\n",
       "      <td>2254736</td>\n",
       "      <td>1</td>\n",
       "      <td>prior</td>\n",
       "      <td>4</td>\n",
       "      <td>4</td>\n",
       "      <td>7</td>\n",
       "      <td>29.0</td>\n",
       "    </tr>\n",
       "    <tr>\n",
       "      <th>4</th>\n",
       "      <td>431534</td>\n",
       "      <td>1</td>\n",
       "      <td>prior</td>\n",
       "      <td>5</td>\n",
       "      <td>4</td>\n",
       "      <td>15</td>\n",
       "      <td>28.0</td>\n",
       "    </tr>\n",
       "  </tbody>\n",
       "</table>\n",
       "</div>"
      ],
      "text/plain": [
       "   order_id  user_id  ... order_hour_of_day  days_since_prior_order\n",
       "0   2539329        1  ...                 8                     NaN\n",
       "1   2398795        1  ...                 7                    15.0\n",
       "2    473747        1  ...                12                    21.0\n",
       "3   2254736        1  ...                 7                    29.0\n",
       "4    431534        1  ...                15                    28.0\n",
       "\n",
       "[5 rows x 7 columns]"
      ]
     },
     "execution_count": 16,
     "metadata": {
      "tags": []
     },
     "output_type": "execute_result"
    }
   ],
   "source": [
    "# Now in order to understand data better, it is useful to combine the 5 data frames into one single dataframe which then can be explored. This is what the \n",
    "# data processing refers to here. \n",
    "\n",
    "# Before data processing, lets look at order details in df_orders\n",
    "print(\"Num of orders in df_orders:\",len(df_orders['order_id']))\n",
    "print(\"Num of UNIQUE orders in df_orders:\", df_orders['order_id'].nunique())\n",
    "print(\"Num of orders in different sets: \\n\",df_orders['eval_set'].value_counts())\n",
    "df_orders.head()"
   ]
  },
  {
   "cell_type": "code",
   "execution_count": 17,
   "metadata": {
    "colab": {
     "base_uri": "https://localhost:8080/"
    },
    "executionInfo": {
     "elapsed": 22782,
     "status": "ok",
     "timestamp": 1602048717421,
     "user": {
      "displayName": "Sanjiv Shrestha",
      "photoUrl": "https://lh3.googleusercontent.com/a-/AOh14GhGNMX9tdfRYxa2enZ0TjU-jMEKWwQyFZKgmHS5CQ=s64",
      "userId": "03722492109408791863"
     },
     "user_tz": -345
    },
    "id": "zeHPyGzM-rhQ",
    "outputId": "29b0d8ce-6122-4247-e300-5aa68b58dc84"
   },
   "outputs": [
    {
     "data": {
      "text/plain": [
       "prior    3214874\n",
       "train     131209\n",
       "test       75000\n",
       "Name: eval_set, dtype: int64"
      ]
     },
     "execution_count": 17,
     "metadata": {
      "tags": []
     },
     "output_type": "execute_result"
    }
   ],
   "source": [
    "df_orders['eval_set'].value_counts()"
   ]
  },
  {
   "cell_type": "code",
   "execution_count": 18,
   "metadata": {
    "colab": {
     "base_uri": "https://localhost:8080/",
     "height": 235
    },
    "executionInfo": {
     "elapsed": 22724,
     "status": "ok",
     "timestamp": 1602048717426,
     "user": {
      "displayName": "Sanjiv Shrestha",
      "photoUrl": "https://lh3.googleusercontent.com/a-/AOh14GhGNMX9tdfRYxa2enZ0TjU-jMEKWwQyFZKgmHS5CQ=s64",
      "userId": "03722492109408791863"
     },
     "user_tz": -345
    },
    "id": "-0o9Nx3RT3Ag",
    "outputId": "6ac7817b-5348-47d1-decd-569b6076af5a"
   },
   "outputs": [
    {
     "name": "stdout",
     "output_type": "stream",
     "text": [
      "Num of orders in df_order_products_prior: 32434489\n",
      "Num of UNIQUE orders in df_order_products_prior: 3214874\n"
     ]
    },
    {
     "data": {
      "text/html": [
       "<div>\n",
       "<style scoped>\n",
       "    .dataframe tbody tr th:only-of-type {\n",
       "        vertical-align: middle;\n",
       "    }\n",
       "\n",
       "    .dataframe tbody tr th {\n",
       "        vertical-align: top;\n",
       "    }\n",
       "\n",
       "    .dataframe thead th {\n",
       "        text-align: right;\n",
       "    }\n",
       "</style>\n",
       "<table border=\"1\" class=\"dataframe\">\n",
       "  <thead>\n",
       "    <tr style=\"text-align: right;\">\n",
       "      <th></th>\n",
       "      <th>order_id</th>\n",
       "      <th>product_id</th>\n",
       "      <th>add_to_cart_order</th>\n",
       "      <th>reordered</th>\n",
       "    </tr>\n",
       "  </thead>\n",
       "  <tbody>\n",
       "    <tr>\n",
       "      <th>0</th>\n",
       "      <td>2</td>\n",
       "      <td>33120</td>\n",
       "      <td>1</td>\n",
       "      <td>1</td>\n",
       "    </tr>\n",
       "    <tr>\n",
       "      <th>1</th>\n",
       "      <td>2</td>\n",
       "      <td>28985</td>\n",
       "      <td>2</td>\n",
       "      <td>1</td>\n",
       "    </tr>\n",
       "    <tr>\n",
       "      <th>2</th>\n",
       "      <td>2</td>\n",
       "      <td>9327</td>\n",
       "      <td>3</td>\n",
       "      <td>0</td>\n",
       "    </tr>\n",
       "    <tr>\n",
       "      <th>3</th>\n",
       "      <td>2</td>\n",
       "      <td>45918</td>\n",
       "      <td>4</td>\n",
       "      <td>1</td>\n",
       "    </tr>\n",
       "    <tr>\n",
       "      <th>4</th>\n",
       "      <td>2</td>\n",
       "      <td>30035</td>\n",
       "      <td>5</td>\n",
       "      <td>0</td>\n",
       "    </tr>\n",
       "  </tbody>\n",
       "</table>\n",
       "</div>"
      ],
      "text/plain": [
       "   order_id  product_id  add_to_cart_order  reordered\n",
       "0         2       33120                  1          1\n",
       "1         2       28985                  2          1\n",
       "2         2        9327                  3          0\n",
       "3         2       45918                  4          1\n",
       "4         2       30035                  5          0"
      ]
     },
     "execution_count": 18,
     "metadata": {
      "tags": []
     },
     "output_type": "execute_result"
    }
   ],
   "source": [
    "# Look at order details in df_order_products_prior\n",
    "print(\"Num of orders in df_order_products_prior:\", len(df_order_products_prior['order_id']))\n",
    "print(\"Num of UNIQUE orders in df_order_products_prior:\", df_order_products_prior['order_id'].nunique())\n",
    "df_order_products_prior.head()"
   ]
  },
  {
   "cell_type": "markdown",
   "metadata": {
    "id": "6ttAmEJE4Stc"
   },
   "source": [
    "From results above, we can see that number of unique orders in df_order_products_prior (3214874 i.e. about 3M ) matches number of unique orders in df_orders when eval_set=prior (also 3214874)"
   ]
  },
  {
   "cell_type": "code",
   "execution_count": 19,
   "metadata": {
    "colab": {
     "base_uri": "https://localhost:8080/",
     "height": 198
    },
    "executionInfo": {
     "elapsed": 22671,
     "status": "ok",
     "timestamp": 1602048717430,
     "user": {
      "displayName": "Sanjiv Shrestha",
      "photoUrl": "https://lh3.googleusercontent.com/a-/AOh14GhGNMX9tdfRYxa2enZ0TjU-jMEKWwQyFZKgmHS5CQ=s64",
      "userId": "03722492109408791863"
     },
     "user_tz": -345
    },
    "id": "YB3bL-CYonzf",
    "outputId": "7a898137-38f2-4fac-c810-74e66c42fcb7"
   },
   "outputs": [
    {
     "data": {
      "text/html": [
       "<div>\n",
       "<style scoped>\n",
       "    .dataframe tbody tr th:only-of-type {\n",
       "        vertical-align: middle;\n",
       "    }\n",
       "\n",
       "    .dataframe tbody tr th {\n",
       "        vertical-align: top;\n",
       "    }\n",
       "\n",
       "    .dataframe thead th {\n",
       "        text-align: right;\n",
       "    }\n",
       "</style>\n",
       "<table border=\"1\" class=\"dataframe\">\n",
       "  <thead>\n",
       "    <tr style=\"text-align: right;\">\n",
       "      <th></th>\n",
       "      <th>product_id</th>\n",
       "      <th>product_name</th>\n",
       "      <th>aisle_id</th>\n",
       "      <th>department_id</th>\n",
       "    </tr>\n",
       "  </thead>\n",
       "  <tbody>\n",
       "    <tr>\n",
       "      <th>0</th>\n",
       "      <td>1</td>\n",
       "      <td>Chocolate Sandwich Cookies</td>\n",
       "      <td>61</td>\n",
       "      <td>19</td>\n",
       "    </tr>\n",
       "    <tr>\n",
       "      <th>1</th>\n",
       "      <td>2</td>\n",
       "      <td>All-Seasons Salt</td>\n",
       "      <td>104</td>\n",
       "      <td>13</td>\n",
       "    </tr>\n",
       "    <tr>\n",
       "      <th>2</th>\n",
       "      <td>3</td>\n",
       "      <td>Robust Golden Unsweetened Oolong Tea</td>\n",
       "      <td>94</td>\n",
       "      <td>7</td>\n",
       "    </tr>\n",
       "    <tr>\n",
       "      <th>3</th>\n",
       "      <td>4</td>\n",
       "      <td>Smart Ones Classic Favorites Mini Rigatoni Wit...</td>\n",
       "      <td>38</td>\n",
       "      <td>1</td>\n",
       "    </tr>\n",
       "    <tr>\n",
       "      <th>4</th>\n",
       "      <td>5</td>\n",
       "      <td>Green Chile Anytime Sauce</td>\n",
       "      <td>5</td>\n",
       "      <td>13</td>\n",
       "    </tr>\n",
       "  </tbody>\n",
       "</table>\n",
       "</div>"
      ],
      "text/plain": [
       "   product_id  ... department_id\n",
       "0           1  ...            19\n",
       "1           2  ...            13\n",
       "2           3  ...             7\n",
       "3           4  ...             1\n",
       "4           5  ...            13\n",
       "\n",
       "[5 rows x 4 columns]"
      ]
     },
     "execution_count": 19,
     "metadata": {
      "tags": []
     },
     "output_type": "execute_result"
    }
   ],
   "source": [
    "# Loook at product details\n",
    "df_products.head()"
   ]
  },
  {
   "cell_type": "code",
   "execution_count": 20,
   "metadata": {
    "colab": {
     "base_uri": "https://localhost:8080/",
     "height": 198
    },
    "executionInfo": {
     "elapsed": 22627,
     "status": "ok",
     "timestamp": 1602048717435,
     "user": {
      "displayName": "Sanjiv Shrestha",
      "photoUrl": "https://lh3.googleusercontent.com/a-/AOh14GhGNMX9tdfRYxa2enZ0TjU-jMEKWwQyFZKgmHS5CQ=s64",
      "userId": "03722492109408791863"
     },
     "user_tz": -345
    },
    "id": "fLJDPrvWlrWr",
    "outputId": "68829d98-2348-4311-b794-72a7a5b99ab1"
   },
   "outputs": [
    {
     "data": {
      "text/html": [
       "<div>\n",
       "<style scoped>\n",
       "    .dataframe tbody tr th:only-of-type {\n",
       "        vertical-align: middle;\n",
       "    }\n",
       "\n",
       "    .dataframe tbody tr th {\n",
       "        vertical-align: top;\n",
       "    }\n",
       "\n",
       "    .dataframe thead th {\n",
       "        text-align: right;\n",
       "    }\n",
       "</style>\n",
       "<table border=\"1\" class=\"dataframe\">\n",
       "  <thead>\n",
       "    <tr style=\"text-align: right;\">\n",
       "      <th></th>\n",
       "      <th>aisle_id</th>\n",
       "      <th>aisle</th>\n",
       "    </tr>\n",
       "  </thead>\n",
       "  <tbody>\n",
       "    <tr>\n",
       "      <th>0</th>\n",
       "      <td>1</td>\n",
       "      <td>prepared soups salads</td>\n",
       "    </tr>\n",
       "    <tr>\n",
       "      <th>1</th>\n",
       "      <td>2</td>\n",
       "      <td>specialty cheeses</td>\n",
       "    </tr>\n",
       "    <tr>\n",
       "      <th>2</th>\n",
       "      <td>3</td>\n",
       "      <td>energy granola bars</td>\n",
       "    </tr>\n",
       "    <tr>\n",
       "      <th>3</th>\n",
       "      <td>4</td>\n",
       "      <td>instant foods</td>\n",
       "    </tr>\n",
       "    <tr>\n",
       "      <th>4</th>\n",
       "      <td>5</td>\n",
       "      <td>marinades meat preparation</td>\n",
       "    </tr>\n",
       "  </tbody>\n",
       "</table>\n",
       "</div>"
      ],
      "text/plain": [
       "   aisle_id                       aisle\n",
       "0         1       prepared soups salads\n",
       "1         2           specialty cheeses\n",
       "2         3         energy granola bars\n",
       "3         4               instant foods\n",
       "4         5  marinades meat preparation"
      ]
     },
     "execution_count": 20,
     "metadata": {
      "tags": []
     },
     "output_type": "execute_result"
    }
   ],
   "source": [
    "# Look at aisle details\n",
    "df_aisles.head()"
   ]
  },
  {
   "cell_type": "code",
   "execution_count": 21,
   "metadata": {
    "colab": {
     "base_uri": "https://localhost:8080/",
     "height": 198
    },
    "executionInfo": {
     "elapsed": 22581,
     "status": "ok",
     "timestamp": 1602048717438,
     "user": {
      "displayName": "Sanjiv Shrestha",
      "photoUrl": "https://lh3.googleusercontent.com/a-/AOh14GhGNMX9tdfRYxa2enZ0TjU-jMEKWwQyFZKgmHS5CQ=s64",
      "userId": "03722492109408791863"
     },
     "user_tz": -345
    },
    "id": "NqC5kY4vmFxY",
    "outputId": "5972f3df-fce4-48ed-f7c6-a2b571925b77"
   },
   "outputs": [
    {
     "data": {
      "text/html": [
       "<div>\n",
       "<style scoped>\n",
       "    .dataframe tbody tr th:only-of-type {\n",
       "        vertical-align: middle;\n",
       "    }\n",
       "\n",
       "    .dataframe tbody tr th {\n",
       "        vertical-align: top;\n",
       "    }\n",
       "\n",
       "    .dataframe thead th {\n",
       "        text-align: right;\n",
       "    }\n",
       "</style>\n",
       "<table border=\"1\" class=\"dataframe\">\n",
       "  <thead>\n",
       "    <tr style=\"text-align: right;\">\n",
       "      <th></th>\n",
       "      <th>department_id</th>\n",
       "      <th>department</th>\n",
       "    </tr>\n",
       "  </thead>\n",
       "  <tbody>\n",
       "    <tr>\n",
       "      <th>0</th>\n",
       "      <td>1</td>\n",
       "      <td>frozen</td>\n",
       "    </tr>\n",
       "    <tr>\n",
       "      <th>1</th>\n",
       "      <td>2</td>\n",
       "      <td>other</td>\n",
       "    </tr>\n",
       "    <tr>\n",
       "      <th>2</th>\n",
       "      <td>3</td>\n",
       "      <td>bakery</td>\n",
       "    </tr>\n",
       "    <tr>\n",
       "      <th>3</th>\n",
       "      <td>4</td>\n",
       "      <td>produce</td>\n",
       "    </tr>\n",
       "    <tr>\n",
       "      <th>4</th>\n",
       "      <td>5</td>\n",
       "      <td>alcohol</td>\n",
       "    </tr>\n",
       "  </tbody>\n",
       "</table>\n",
       "</div>"
      ],
      "text/plain": [
       "   department_id department\n",
       "0              1     frozen\n",
       "1              2      other\n",
       "2              3     bakery\n",
       "3              4    produce\n",
       "4              5    alcohol"
      ]
     },
     "execution_count": 21,
     "metadata": {
      "tags": []
     },
     "output_type": "execute_result"
    }
   ],
   "source": [
    "# Look at department details\n",
    "df_departments.head()"
   ]
  },
  {
   "cell_type": "code",
   "execution_count": 22,
   "metadata": {
    "executionInfo": {
     "elapsed": 28496,
     "status": "ok",
     "timestamp": 1602048723376,
     "user": {
      "displayName": "Sanjiv Shrestha",
      "photoUrl": "https://lh3.googleusercontent.com/a-/AOh14GhGNMX9tdfRYxa2enZ0TjU-jMEKWwQyFZKgmHS5CQ=s64",
      "userId": "03722492109408791863"
     },
     "user_tz": -345
    },
    "id": "6CcTQpBrT3Aw"
   },
   "outputs": [],
   "source": [
    "# Now, lets combine the dataframes df_order_products_prior and df_orders into a single dataframe\n",
    "df_prior_n_orders = pd.merge(df_order_products_prior,df_orders,on='order_id',how='left')"
   ]
  },
  {
   "cell_type": "code",
   "execution_count": 23,
   "metadata": {
    "colab": {
     "base_uri": "https://localhost:8080/"
    },
    "executionInfo": {
     "elapsed": 30070,
     "status": "ok",
     "timestamp": 1602048725001,
     "user": {
      "displayName": "Sanjiv Shrestha",
      "photoUrl": "https://lh3.googleusercontent.com/a-/AOh14GhGNMX9tdfRYxa2enZ0TjU-jMEKWwQyFZKgmHS5CQ=s64",
      "userId": "03722492109408791863"
     },
     "user_tz": -345
    },
    "id": "K6kDyqZKeVOy",
    "outputId": "07e247db-b3bf-4516-b9f4-f9b504345f7f"
   },
   "outputs": [
    {
     "data": {
      "text/plain": [
       "order_id                        0\n",
       "product_id                      0\n",
       "add_to_cart_order               0\n",
       "reordered                       0\n",
       "user_id                         0\n",
       "eval_set                        0\n",
       "order_number                    0\n",
       "order_dow                       0\n",
       "order_hour_of_day               0\n",
       "days_since_prior_order    2078068\n",
       "dtype: int64"
      ]
     },
     "execution_count": 23,
     "metadata": {
      "tags": []
     },
     "output_type": "execute_result"
    }
   ],
   "source": [
    "# Find null or NaN values in df_prior_n_orders\n",
    "df_prior_n_orders.isna().sum()"
   ]
  },
  {
   "cell_type": "code",
   "execution_count": 24,
   "metadata": {
    "executionInfo": {
     "elapsed": 30846,
     "status": "ok",
     "timestamp": 1602048725789,
     "user": {
      "displayName": "Sanjiv Shrestha",
      "photoUrl": "https://lh3.googleusercontent.com/a-/AOh14GhGNMX9tdfRYxa2enZ0TjU-jMEKWwQyFZKgmHS5CQ=s64",
      "userId": "03722492109408791863"
     },
     "user_tz": -345
    },
    "id": "0J9xkgjOfiQd"
   },
   "outputs": [],
   "source": [
    "# Remove rows containing NaN values for column \"days_since_prior_order\" since this was the only column with NaN values\n",
    "df_prior_n_orders_clean = df_prior_n_orders.dropna(subset = [\"days_since_prior_order\"])"
   ]
  },
  {
   "cell_type": "code",
   "execution_count": 25,
   "metadata": {
    "colab": {
     "base_uri": "https://localhost:8080/"
    },
    "executionInfo": {
     "elapsed": 33117,
     "status": "ok",
     "timestamp": 1602048728093,
     "user": {
      "displayName": "Sanjiv Shrestha",
      "photoUrl": "https://lh3.googleusercontent.com/a-/AOh14GhGNMX9tdfRYxa2enZ0TjU-jMEKWwQyFZKgmHS5CQ=s64",
      "userId": "03722492109408791863"
     },
     "user_tz": -345
    },
    "id": "pogUTMcS74XJ",
    "outputId": "498bba69-50f1-4d7e-8e99-7dfb2855d516"
   },
   "outputs": [
    {
     "data": {
      "text/plain": [
       "order_id                  0\n",
       "product_id                0\n",
       "add_to_cart_order         0\n",
       "reordered                 0\n",
       "user_id                   0\n",
       "eval_set                  0\n",
       "order_number              0\n",
       "order_dow                 0\n",
       "order_hour_of_day         0\n",
       "days_since_prior_order    0\n",
       "dtype: int64"
      ]
     },
     "execution_count": 25,
     "metadata": {
      "tags": []
     },
     "output_type": "execute_result"
    }
   ],
   "source": [
    "# Check to see NaN values were removed\n",
    "df_prior_n_orders_clean.isna().sum()"
   ]
  },
  {
   "cell_type": "code",
   "execution_count": 26,
   "metadata": {
    "colab": {
     "base_uri": "https://localhost:8080/"
    },
    "executionInfo": {
     "elapsed": 33083,
     "status": "ok",
     "timestamp": 1602048728095,
     "user": {
      "displayName": "Sanjiv Shrestha",
      "photoUrl": "https://lh3.googleusercontent.com/a-/AOh14GhGNMX9tdfRYxa2enZ0TjU-jMEKWwQyFZKgmHS5CQ=s64",
      "userId": "03722492109408791863"
     },
     "user_tz": -345
    },
    "id": "mWyWOGnwm-XE",
    "outputId": "2f57c5e5-ba3a-4428-a233-54e48e9cf73f"
   },
   "outputs": [
    {
     "data": {
      "text/plain": [
       "2078068"
      ]
     },
     "execution_count": 26,
     "metadata": {
      "tags": []
     },
     "output_type": "execute_result"
    }
   ],
   "source": [
    "# Compare number of rows in df_prior_n_orders vs df_prior_n_orders_clean\n",
    "len(df_prior_n_orders) - len(df_prior_n_orders_clean)"
   ]
  },
  {
   "cell_type": "markdown",
   "metadata": {
    "id": "2m6KEZPWnYdj"
   },
   "source": [
    "The above results match the number of rows that were dropped as a result of NaN values for column \"days_since_prior_order\""
   ]
  },
  {
   "cell_type": "code",
   "execution_count": 27,
   "metadata": {
    "executionInfo": {
     "elapsed": 43093,
     "status": "ok",
     "timestamp": 1602048738115,
     "user": {
      "displayName": "Sanjiv Shrestha",
      "photoUrl": "https://lh3.googleusercontent.com/a-/AOh14GhGNMX9tdfRYxa2enZ0TjU-jMEKWwQyFZKgmHS5CQ=s64",
      "userId": "03722492109408791863"
     },
     "user_tz": -345
    },
    "id": "SMqI60rtnV_X"
   },
   "outputs": [],
   "source": [
    "# Now combine the rest of the dataframes to create one single final dataframe called df_final\n",
    "df_prior_n_orders_n_products = pd.merge(df_prior_n_orders_clean, df_products, on='product_id',how='left')\n",
    "df_prior_n_orders_n_products_n_aisles = pd.merge(df_prior_n_orders_n_products,df_aisles, on='aisle_id',how='left')\n",
    "df_prior_n_orders_n_products_n_aisles_n_depts = pd.merge(df_prior_n_orders_n_products_n_aisles,df_departments, on='department_id',how='left')\n",
    "df_final = df_prior_n_orders_n_products_n_aisles_n_depts"
   ]
  },
  {
   "cell_type": "code",
   "execution_count": 28,
   "metadata": {
    "colab": {
     "base_uri": "https://localhost:8080/"
    },
    "executionInfo": {
     "elapsed": 46537,
     "status": "ok",
     "timestamp": 1602048741621,
     "user": {
      "displayName": "Sanjiv Shrestha",
      "photoUrl": "https://lh3.googleusercontent.com/a-/AOh14GhGNMX9tdfRYxa2enZ0TjU-jMEKWwQyFZKgmHS5CQ=s64",
      "userId": "03722492109408791863"
     },
     "user_tz": -345
    },
    "id": "NfogPHkqpPm1",
    "outputId": "aa39b33c-b09d-4e63-b6e0-00e44562957a"
   },
   "outputs": [
    {
     "data": {
      "text/plain": [
       "order_id                  0\n",
       "product_id                0\n",
       "add_to_cart_order         0\n",
       "reordered                 0\n",
       "user_id                   0\n",
       "eval_set                  0\n",
       "order_number              0\n",
       "order_dow                 0\n",
       "order_hour_of_day         0\n",
       "days_since_prior_order    0\n",
       "product_name              0\n",
       "aisle_id                  0\n",
       "department_id             0\n",
       "aisle                     0\n",
       "department                0\n",
       "dtype: int64"
      ]
     },
     "execution_count": 28,
     "metadata": {
      "tags": []
     },
     "output_type": "execute_result"
    }
   ],
   "source": [
    "# Check to see there are no null or NaN values in the dataframe df_final\n",
    "df_final.isna().sum()"
   ]
  },
  {
   "cell_type": "code",
   "execution_count": 29,
   "metadata": {
    "colab": {
     "base_uri": "https://localhost:8080/"
    },
    "executionInfo": {
     "elapsed": 47269,
     "status": "ok",
     "timestamp": 1602048742391,
     "user": {
      "displayName": "Sanjiv Shrestha",
      "photoUrl": "https://lh3.googleusercontent.com/a-/AOh14GhGNMX9tdfRYxa2enZ0TjU-jMEKWwQyFZKgmHS5CQ=s64",
      "userId": "03722492109408791863"
     },
     "user_tz": -345
    },
    "id": "3RdcyyHlpqQk",
    "outputId": "d68e8b7a-af77-4a4b-cafe-e320c42ed100"
   },
   "outputs": [
    {
     "name": "stdout",
     "output_type": "stream",
     "text": [
      "Number of rows in df_final:  30356421\n",
      "Number of orders in df_final:  3008665\n",
      "Number of users in df_final:  206209\n",
      "Number of products in df_final:  49646\n",
      "Number of aisles in df_final:  134\n",
      "Number of depts in df_final:  21\n"
     ]
    }
   ],
   "source": [
    "print(\"Number of rows in df_final: \", df_final.order_id.count())\n",
    "print(\"Number of orders in df_final: \", df_final.order_id.nunique())\n",
    "print(\"Number of users in df_final: \", df_final.user_id.nunique())\n",
    "print(\"Number of products in df_final: \", df_final.product_id.nunique())\n",
    "print(\"Number of aisles in df_final: \", df_final.aisle_id.nunique())\n",
    "print(\"Number of depts in df_final: \", df_final.department_id.nunique())\n"
   ]
  },
  {
   "cell_type": "markdown",
   "metadata": {
    "id": "n3WhxqEdATLx"
   },
   "source": [
    "**Data exploration**"
   ]
  },
  {
   "cell_type": "code",
   "execution_count": 30,
   "metadata": {
    "executionInfo": {
     "elapsed": 47263,
     "status": "ok",
     "timestamp": 1602048742393,
     "user": {
      "displayName": "Sanjiv Shrestha",
      "photoUrl": "https://lh3.googleusercontent.com/a-/AOh14GhGNMX9tdfRYxa2enZ0TjU-jMEKWwQyFZKgmHS5CQ=s64",
      "userId": "03722492109408791863"
     },
     "user_tz": -345
    },
    "id": "jGrrCnPqgKlW"
   },
   "outputs": [],
   "source": [
    "# Now let's use the df_final dataframe generated above to make the observations that follow."
   ]
  },
  {
   "cell_type": "code",
   "execution_count": 31,
   "metadata": {
    "colab": {
     "base_uri": "https://localhost:8080/",
     "height": 385
    },
    "executionInfo": {
     "elapsed": 51764,
     "status": "ok",
     "timestamp": 1602048746940,
     "user": {
      "displayName": "Sanjiv Shrestha",
      "photoUrl": "https://lh3.googleusercontent.com/a-/AOh14GhGNMX9tdfRYxa2enZ0TjU-jMEKWwQyFZKgmHS5CQ=s64",
      "userId": "03722492109408791863"
     },
     "user_tz": -345
    },
    "id": "6o3n9JVBBPAz",
    "outputId": "ce8f338e-6950-45b2-e5af-db0e013bf0b6"
   },
   "outputs": [
    {
     "data": {
      "text/plain": [
       "(array([ 0,  1,  2,  3,  4,  5,  6,  7,  8,  9, 10, 11, 12, 13, 14, 15, 16,\n",
       "        17, 18, 19, 20]), <a list of 21 Text major ticklabel objects>)"
      ]
     },
     "execution_count": 31,
     "metadata": {
      "tags": []
     },
     "output_type": "execute_result"
    },
    {
     "data": {
      "image/png": "[encoded data removed]",
      "text/plain": [
       "<Figure size 1296x288 with 1 Axes>"
      ]
     },
     "metadata": {
      "needs_background": "light",
      "tags": []
     },
     "output_type": "display_data"
    }
   ],
   "source": [
    "# Departments with most orders\n",
    "plt.figure(figsize=(18,4))\n",
    "sns.barplot(x=df_final['department'].value_counts().index, y=df_final['department'].value_counts().values)\n",
    "plt.title(\"Departments with most orders\")\n",
    "plt.ylabel(\"Number of orders\")\n",
    "plt.xlabel(\"Dept\")\n",
    "plt.xticks(rotation=45)"
   ]
  },
  {
   "cell_type": "markdown",
   "metadata": {
    "id": "-TP5eijsCAnW"
   },
   "source": [
    "Produce, Dairy eggs and Snacks are the top 3 departments in terms of number of orders received"
   ]
  },
  {
   "cell_type": "code",
   "execution_count": 32,
   "metadata": {
    "colab": {
     "base_uri": "https://localhost:8080/",
     "height": 431
    },
    "executionInfo": {
     "elapsed": 55167,
     "status": "ok",
     "timestamp": 1602048750394,
     "user": {
      "displayName": "Sanjiv Shrestha",
      "photoUrl": "https://lh3.googleusercontent.com/a-/AOh14GhGNMX9tdfRYxa2enZ0TjU-jMEKWwQyFZKgmHS5CQ=s64",
      "userId": "03722492109408791863"
     },
     "user_tz": -345
    },
    "id": "uzDS3RLKGCeb",
    "outputId": "7bf19347-14ae-4907-8df1-dfeed5d46583"
   },
   "outputs": [
    {
     "data": {
      "text/plain": [
       "(array([ 0,  1,  2,  3,  4,  5,  6,  7,  8,  9, 10, 11, 12, 13, 14, 15, 16,\n",
       "        17, 18, 19]), <a list of 20 Text major ticklabel objects>)"
      ]
     },
     "execution_count": 32,
     "metadata": {
      "tags": []
     },
     "output_type": "execute_result"
    },
    {
     "data": {
      "image/png": "[encoded data removed]",
      "text/plain": [
       "<Figure size 1296x288 with 1 Axes>"
      ]
     },
     "metadata": {
      "needs_background": "light",
      "tags": []
     },
     "output_type": "display_data"
    }
   ],
   "source": [
    "# Aisles with most orders (Top 20 aisles)\n",
    "plt.figure(figsize=(18,4))\n",
    "sns.barplot(x=df_final['aisle'].value_counts().head(20).index, y=df_final['aisle'].value_counts().head(20).values)\n",
    "plt.title(\"Aisles with most orders (Top 20 Aisles)\")\n",
    "plt.ylabel(\"Number of orders\")\n",
    "plt.xlabel(\"Aisle\")\n",
    "plt.xticks(rotation=45)"
   ]
  },
  {
   "cell_type": "markdown",
   "metadata": {
    "id": "mjoGc6sFC8mg"
   },
   "source": [
    "Fresh fruits, Fresh vegetables and Packaged Vegetables Fruits are the top 3 aisles in terms of orders received"
   ]
  },
  {
   "cell_type": "code",
   "execution_count": 33,
   "metadata": {
    "colab": {
     "base_uri": "https://localhost:8080/",
     "height": 420
    },
    "executionInfo": {
     "elapsed": 60983,
     "status": "ok",
     "timestamp": 1602048756219,
     "user": {
      "displayName": "Sanjiv Shrestha",
      "photoUrl": "https://lh3.googleusercontent.com/a-/AOh14GhGNMX9tdfRYxa2enZ0TjU-jMEKWwQyFZKgmHS5CQ=s64",
      "userId": "03722492109408791863"
     },
     "user_tz": -345
    },
    "id": "7aUYTv5kGFnD",
    "outputId": "92fc578d-bbab-4fd7-bd0e-ccbc6c45be19"
   },
   "outputs": [
    {
     "data": {
      "text/plain": [
       "(array([ 0,  1,  2,  3,  4,  5,  6,  7,  8,  9, 10, 11, 12, 13, 14, 15, 16,\n",
       "        17, 18, 19]), <a list of 20 Text major ticklabel objects>)"
      ]
     },
     "execution_count": 33,
     "metadata": {
      "tags": []
     },
     "output_type": "execute_result"
    },
    {
     "data": {
      "image/png": "[encoded data removed]",
      "text/plain": [
       "<Figure size 1296x288 with 1 Axes>"
      ]
     },
     "metadata": {
      "needs_background": "light",
      "tags": []
     },
     "output_type": "display_data"
    }
   ],
   "source": [
    "# Products with most orders (Top 20 products)\n",
    "plt.figure(figsize=(18,4))\n",
    "sns.barplot(x=df_final['product_name'].value_counts().head(20).index, y=df_final['product_name'].value_counts().head(20).values)\n",
    "plt.title(\"Products with most orders (Top 20 Products)\")\n",
    "plt.ylabel(\"Number of orders\")\n",
    "plt.xlabel(\"Product\")\n",
    "plt.xticks(rotation=45)"
   ]
  },
  {
   "cell_type": "markdown",
   "metadata": {
    "id": "LMkwsqSjDeQ0"
   },
   "source": [
    "Bananas, Bag of Organic Bananas and Organic Strawberries are the top 3 products in terms of orders received"
   ]
  },
  {
   "cell_type": "code",
   "execution_count": 34,
   "metadata": {
    "colab": {
     "base_uri": "https://localhost:8080/",
     "height": 385
    },
    "executionInfo": {
     "elapsed": 110390,
     "status": "ok",
     "timestamp": 1602048805635,
     "user": {
      "displayName": "Sanjiv Shrestha",
      "photoUrl": "https://lh3.googleusercontent.com/a-/AOh14GhGNMX9tdfRYxa2enZ0TjU-jMEKWwQyFZKgmHS5CQ=s64",
      "userId": "03722492109408791863"
     },
     "user_tz": -345
    },
    "id": "dBzx-VEvmAux",
    "outputId": "7d5156d1-0fe1-4270-dd3d-e039cadd61cf"
   },
   "outputs": [
    {
     "data": {
      "text/plain": [
       "(array([ 0,  1,  2,  3,  4,  5,  6,  7,  8,  9, 10, 11, 12, 13, 14, 15, 16,\n",
       "        17, 18, 19, 20]), <a list of 21 Text major ticklabel objects>)"
      ]
     },
     "execution_count": 34,
     "metadata": {
      "tags": []
     },
     "output_type": "execute_result"
    },
    {
     "data": {
      "image/png": "[encoded data removed]",
      "text/plain": [
       "<Figure size 1296x288 with 1 Axes>"
      ]
     },
     "metadata": {
      "needs_background": "light",
      "tags": []
     },
     "output_type": "display_data"
    }
   ],
   "source": [
    "# Departments with most products\n",
    "depts_most_products = df_final['product_name'].groupby(df_final['department']).nunique().sort_values(ascending=False)\n",
    "\n",
    "plt.figure(figsize=(18,4))\n",
    "sns.barplot(x= depts_most_products.index, y=depts_most_products.values)\n",
    "plt.title(\"Departments with most products\")\n",
    "plt.ylabel(\"Number of products\")\n",
    "plt.xticks(rotation=45)"
   ]
  },
  {
   "cell_type": "markdown",
   "metadata": {
    "id": "9gTxzyhsEMcF"
   },
   "source": [
    "Personal Care, Snacks and Pantry are the top 3 departments in terms of number of products offered"
   ]
  },
  {
   "cell_type": "code",
   "execution_count": 35,
   "metadata": {
    "colab": {
     "base_uri": "https://localhost:8080/",
     "height": 406
    },
    "executionInfo": {
     "elapsed": 161381,
     "status": "ok",
     "timestamp": 1602048856645,
     "user": {
      "displayName": "Sanjiv Shrestha",
      "photoUrl": "https://lh3.googleusercontent.com/a-/AOh14GhGNMX9tdfRYxa2enZ0TjU-jMEKWwQyFZKgmHS5CQ=s64",
      "userId": "03722492109408791863"
     },
     "user_tz": -345
    },
    "id": "GAH_RwE6mYJL",
    "outputId": "249ac62e-884f-4e0e-b917-a550f57310cc"
   },
   "outputs": [
    {
     "data": {
      "text/plain": [
       "(array([ 0,  1,  2,  3,  4,  5,  6,  7,  8,  9, 10, 11, 12, 13, 14, 15, 16,\n",
       "        17, 18, 19]), <a list of 20 Text major ticklabel objects>)"
      ]
     },
     "execution_count": 35,
     "metadata": {
      "tags": []
     },
     "output_type": "execute_result"
    },
    {
     "data": {
      "image/png": "[encoded data removed]",
      "text/plain": [
       "<Figure size 1296x288 with 1 Axes>"
      ]
     },
     "metadata": {
      "needs_background": "light",
      "tags": []
     },
     "output_type": "display_data"
    }
   ],
   "source": [
    "# Aisles with most products (Top 20 aisles)\n",
    "aisles_most_products = df_final['product_name'].groupby(df_final['aisle']).nunique().sort_values(ascending=False).head(20)\n",
    "\n",
    "plt.figure(figsize=(18,4))\n",
    "sns.barplot(x=aisles_most_products.index, y=aisles_most_products.values)\n",
    "plt.title(\"Aisles with most products (Top 20 aisles)\")\n",
    "plt.ylabel(\"Number of products\")\n",
    "plt.xticks(rotation=45)"
   ]
  },
  {
   "cell_type": "markdown",
   "metadata": {
    "id": "Xn9iXgwSEZ8K"
   },
   "source": [
    "Leave aside Missing (this would need to investigated with the help of business stakeholders).\n",
    "\n",
    "Candy Chocolate, Ice cream ice and Vitamins supplments are the top 3 aisles in terms of number of products offered"
   ]
  },
  {
   "cell_type": "code",
   "execution_count": 36,
   "metadata": {
    "colab": {
     "base_uri": "https://localhost:8080/",
     "height": 421
    },
    "executionInfo": {
     "elapsed": 164540,
     "status": "ok",
     "timestamp": 1602048859814,
     "user": {
      "displayName": "Sanjiv Shrestha",
      "photoUrl": "https://lh3.googleusercontent.com/a-/AOh14GhGNMX9tdfRYxa2enZ0TjU-jMEKWwQyFZKgmHS5CQ=s64",
      "userId": "03722492109408791863"
     },
     "user_tz": -345
    },
    "id": "SBz-q-SSGaHs",
    "outputId": "62660f04-744a-49fd-e6c5-0e2f15ffb10b"
   },
   "outputs": [
    {
     "data": {
      "text/plain": [
       "(array([ 0,  1,  2,  3,  4,  5,  6,  7,  8,  9, 10, 11, 12, 13, 14, 15, 16,\n",
       "        17, 18, 19]), <a list of 20 Text major ticklabel objects>)"
      ]
     },
     "execution_count": 36,
     "metadata": {
      "tags": []
     },
     "output_type": "execute_result"
    },
    {
     "data": {
      "image/png": "[encoded data removed]",
      "text/plain": [
       "<Figure size 1296x288 with 1 Axes>"
      ]
     },
     "metadata": {
      "needs_background": "light",
      "tags": []
     },
     "output_type": "display_data"
    }
   ],
   "source": [
    "# Most reordered products\n",
    "most_reordered_products = df_final['reordered'].groupby(df_final['product_name']).sum().sort_values(ascending=False)\n",
    "\n",
    "plt.figure(figsize=(18,4))\n",
    "sns.barplot(x=most_reordered_products.head(20).index, y=most_reordered_products.head(20).values)\n",
    "plt.title(\"Most reordered products\")\n",
    "plt.ylabel(\"Number of times reordered\")\n",
    "plt.xticks(rotation=45)"
   ]
  },
  {
   "cell_type": "markdown",
   "metadata": {
    "id": "0z_dKq8eMX5e"
   },
   "source": [
    "Bananas, Bag of Organic Bananas and Organic Strawberries are the top 3 most reordered products"
   ]
  },
  {
   "cell_type": "code",
   "execution_count": 37,
   "metadata": {
    "executionInfo": {
     "elapsed": 220565,
     "status": "ok",
     "timestamp": 1602048915848,
     "user": {
      "displayName": "Sanjiv Shrestha",
      "photoUrl": "https://lh3.googleusercontent.com/a-/AOh14GhGNMX9tdfRYxa2enZ0TjU-jMEKWwQyFZKgmHS5CQ=s64",
      "userId": "03722492109408791863"
     },
     "user_tz": -345
    },
    "id": "PZ5XQhyYKgN5"
   },
   "outputs": [],
   "source": [
    "# Products that are added to cart first\n",
    "products_added_to_cart_first = df_final['product_name'].groupby(df_final['add_to_cart_order']).value_counts()[1]"
   ]
  },
  {
   "cell_type": "code",
   "execution_count": 38,
   "metadata": {
    "colab": {
     "base_uri": "https://localhost:8080/",
     "height": 446
    },
    "executionInfo": {
     "elapsed": 220579,
     "status": "ok",
     "timestamp": 1602048915873,
     "user": {
      "displayName": "Sanjiv Shrestha",
      "photoUrl": "https://lh3.googleusercontent.com/a-/AOh14GhGNMX9tdfRYxa2enZ0TjU-jMEKWwQyFZKgmHS5CQ=s64",
      "userId": "03722492109408791863"
     },
     "user_tz": -345
    },
    "id": "wlmh2r_mPp_N",
    "outputId": "fc624ee3-fe0b-463d-af30-512659b40984"
   },
   "outputs": [
    {
     "data": {
      "text/plain": [
       "(array([ 0,  1,  2,  3,  4,  5,  6,  7,  8,  9, 10, 11, 12, 13, 14, 15, 16,\n",
       "        17, 18, 19]), <a list of 20 Text major ticklabel objects>)"
      ]
     },
     "execution_count": 38,
     "metadata": {
      "tags": []
     },
     "output_type": "execute_result"
    },
    {
     "data": {
      "image/png": "[encoded data removed]",
      "text/plain": [
       "<Figure size 1296x288 with 1 Axes>"
      ]
     },
     "metadata": {
      "needs_background": "light",
      "tags": []
     },
     "output_type": "display_data"
    }
   ],
   "source": [
    "plt.figure(figsize=(18,4))\n",
    "sns.barplot(x=products_added_to_cart_first.head(20).index, y=products_added_to_cart_first.head(20).values)\n",
    "plt.title(\"Products added to cart first\")\n",
    "plt.ylabel(\"Number of orders in which product is added to cart first\")\n",
    "plt.xlabel(\"Product\")\n",
    "plt.xticks(rotation=45)"
   ]
  },
  {
   "cell_type": "markdown",
   "metadata": {
    "id": "gjk9oWDySaIq"
   },
   "source": [
    "Bananas, Bag of Organic Bananas and Organic Whole Milk are the top 3 products that are added to cart first"
   ]
  },
  {
   "cell_type": "code",
   "execution_count": 39,
   "metadata": {
    "colab": {
     "base_uri": "https://localhost:8080/",
     "height": 313
    },
    "executionInfo": {
     "elapsed": 224189,
     "status": "ok",
     "timestamp": 1602048919493,
     "user": {
      "displayName": "Sanjiv Shrestha",
      "photoUrl": "https://lh3.googleusercontent.com/a-/AOh14GhGNMX9tdfRYxa2enZ0TjU-jMEKWwQyFZKgmHS5CQ=s64",
      "userId": "03722492109408791863"
     },
     "user_tz": -345
    },
    "id": "9QXHDXaaSYZ7",
    "outputId": "83d17ecc-3fe0-4b15-fa0c-eb010a41540e"
   },
   "outputs": [
    {
     "data": {
      "text/plain": [
       "Text(0.5, 1.0, 'Number of unique orders over course of week')"
      ]
     },
     "execution_count": 39,
     "metadata": {
      "tags": []
     },
     "output_type": "execute_result"
    },
    {
     "data": {
      "image/png": "[encoded data removed]",
      "text/plain": [
       "<Figure size 864x288 with 1 Axes>"
      ]
     },
     "metadata": {
      "needs_background": "light",
      "tags": []
     },
     "output_type": "display_data"
    }
   ],
   "source": [
    "# How the orders are spread out over the course of week\n",
    "plt.figure(figsize=(12,4))\n",
    "\n",
    "unique_orders_over_week = df_final['order_id'].groupby(df_final['order_dow']).nunique()\n",
    "sns.barplot(x=unique_orders_over_week.index, y=unique_orders_over_week.values)\n",
    "plt.ylabel(\"Number of unique orders\")\n",
    "plt.xlabel(\"Day of week\")\n",
    "plt.title(\"Number of unique orders over course of week\")\n"
   ]
  },
  {
   "cell_type": "markdown",
   "metadata": {
    "id": "0INOv7JsmLHM"
   },
   "source": [
    "Days 0 and 1 (presumably Saturday and Sunday) get more orders than days 2,3,4,5 and 6"
   ]
  },
  {
   "cell_type": "code",
   "execution_count": 40,
   "metadata": {
    "colab": {
     "base_uri": "https://localhost:8080/",
     "height": 313
    },
    "executionInfo": {
     "elapsed": 229838,
     "status": "ok",
     "timestamp": 1602048925149,
     "user": {
      "displayName": "Sanjiv Shrestha",
      "photoUrl": "https://lh3.googleusercontent.com/a-/AOh14GhGNMX9tdfRYxa2enZ0TjU-jMEKWwQyFZKgmHS5CQ=s64",
      "userId": "03722492109408791863"
     },
     "user_tz": -345
    },
    "id": "Wi26_BspR_KY",
    "outputId": "48de8b19-c728-44fa-d0c9-6f4bc0ec1bc7"
   },
   "outputs": [
    {
     "data": {
      "text/plain": [
       "Text(0.5, 1.0, 'Number of unique orders over course of day')"
      ]
     },
     "execution_count": 40,
     "metadata": {
      "tags": []
     },
     "output_type": "execute_result"
    },
    {
     "data": {
      "image/png": "[encoded data removed]",
      "text/plain": [
       "<Figure size 1296x288 with 1 Axes>"
      ]
     },
     "metadata": {
      "needs_background": "light",
      "tags": []
     },
     "output_type": "display_data"
    }
   ],
   "source": [
    "# How the orders are spread out over the course of day\n",
    "plt.figure(figsize=(18,4))\n",
    "\n",
    "unique_orders_over_day = df_final['order_id'].groupby(df_final['order_hour_of_day']).nunique()\n",
    "sns.barplot(x=unique_orders_over_day.index, y=unique_orders_over_day.values)\n",
    "plt.ylabel(\"Number of unique orders\")\n",
    "plt.xlabel(\"Hour of day\")\n",
    "plt.title(\"Number of unique orders over course of day\")"
   ]
  },
  {
   "cell_type": "markdown",
   "metadata": {
    "id": "B8LXT5NcmrzS"
   },
   "source": [
    "Orders start to pick up around 6am in the morning, hit the peak around 10am, stays around the peak till about 4pm after which it starts to go down. "
   ]
  },
  {
   "cell_type": "code",
   "execution_count": 41,
   "metadata": {
    "colab": {
     "base_uri": "https://localhost:8080/",
     "height": 313
    },
    "executionInfo": {
     "elapsed": 236174,
     "status": "ok",
     "timestamp": 1602048931492,
     "user": {
      "displayName": "Sanjiv Shrestha",
      "photoUrl": "https://lh3.googleusercontent.com/a-/AOh14GhGNMX9tdfRYxa2enZ0TjU-jMEKWwQyFZKgmHS5CQ=s64",
      "userId": "03722492109408791863"
     },
     "user_tz": -345
    },
    "id": "QIB-S1H3iQsH",
    "outputId": "382ef36c-e28c-4a32-f0ec-cc4c274eae4b"
   },
   "outputs": [
    {
     "data": {
      "text/plain": [
       "Text(0.5, 1.0, 'Number of unique orders vs days since prior order')"
      ]
     },
     "execution_count": 41,
     "metadata": {
      "tags": []
     },
     "output_type": "execute_result"
    },
    {
     "data": {
      "image/png": "[encoded data removed]",
      "text/plain": [
       "<Figure size 1296x288 with 1 Axes>"
      ]
     },
     "metadata": {
      "needs_background": "light",
      "tags": []
     },
     "output_type": "display_data"
    }
   ],
   "source": [
    "# How the orders are spread out since last/prior order\n",
    "plt.figure(figsize=(18,4))\n",
    "\n",
    "unique_orders_since_prior_order = df_final['order_id'].groupby(df_final['days_since_prior_order']).nunique()\n",
    "sns.barplot(x=unique_orders_since_prior_order.index, y=unique_orders_since_prior_order.values)\n",
    "plt.ylabel(\"Number of unique orders\")\n",
    "plt.xlabel(\"Days since prior order\")\n",
    "plt.title(\"Number of unique orders vs days since prior order\")"
   ]
  },
  {
   "cell_type": "markdown",
   "metadata": {
    "id": "tZDKrnBioQPh"
   },
   "source": [
    "There are 2 major peaks at 7 and 30. This indicates that there is one large segment of customers who order every week and there is another large segment of customers who order every month.\n",
    "\n",
    "There is also large segment of customers who order every 1, 2,3,4,5 and 6 days as well. \n",
    "\n",
    "There is moderate segment of customers who order every 2 weeks (day 14) and every 3 weeks (day 21) as well. \n",
    "\n",
    "There is also a sizable segment of customers who order on the same day (day 0)"
   ]
  },
  {
   "cell_type": "code",
   "execution_count": null,
   "metadata": {
    "id": "aCb9IMH9x3b6"
   },
   "outputs": [],
   "source": []
  }
 ],
 "metadata": {
  "colab": {
   "collapsed_sections": [],
   "machine_shape": "hm",
   "name": "Instacart_Market_Basket_Analysis.ipynb",
   "provenance": []
  },
  "kernelspec": {
   "display_name": "Python 3",
   "language": "python",
   "name": "python3"
  },
  "language_info": {
   "codemirror_mode": {
    "name": "ipython",
    "version": 3
   },
   "file_extension": ".py",
   "mimetype": "text/x-python",
   "name": "python",
   "nbconvert_exporter": "python",
   "pygments_lexer": "ipython3",
   "version": "3.7.6"
  }
 },
 "nbformat": 4,
 "nbformat_minor": 1
}
