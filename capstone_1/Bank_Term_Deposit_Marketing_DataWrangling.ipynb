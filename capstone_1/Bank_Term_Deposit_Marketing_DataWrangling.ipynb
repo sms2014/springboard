{
 "cells": [
  {
   "cell_type": "code",
   "execution_count": 1,
   "metadata": {},
   "outputs": [],
   "source": [
    "# Import necessary libraries for the project\n",
    "%matplotlib inline\n",
    "import pandas as pd\n",
    "import numpy as np\n",
    "import sklearn\n",
    "import matplotlib.pyplot as plt\n",
    "from mpl_toolkits.mplot3d import Axes3D\n",
    "import seaborn as sns"
   ]
  },
  {
   "cell_type": "code",
   "execution_count": 2,
   "metadata": {},
   "outputs": [],
   "source": [
    "# Read in the data stored in .xlsx file into pandas dataframe \n",
    "df_term_deposit_marketing = pd.read_csv(\"./train.csv\")"
   ]
  },
  {
   "cell_type": "markdown",
   "metadata": {},
   "source": [
    "### DATA WRANGLING"
   ]
  },
  {
   "cell_type": "raw",
   "metadata": {},
   "source": [
    "Description of columns in the data\n",
    "\n",
    "ID = Unique client ID\n",
    "age = Age of the client\n",
    "job = Type of job\n",
    "marital = Marital Status of the client\n",
    "education = Education Level\n",
    "default = Credit in default\n",
    "Balance = Outstanding balance\n",
    "housing = Housing Loan\n",
    "loan = Personal Loan\n",
    "contact = Type of communication\n",
    "day = Day of Week of Contact\n",
    "month = Contact Month\n",
    "duration = Contact Duration\n",
    "campaign = Number of contacts performed during this campaign to the client\n",
    "pdays = Number of days that passed by after the client was last contacted\n",
    "previous = Number of contacts performed before this campaign\n",
    "poutcome = Has the client subscribed a term deposit in previous campaign?\n",
    "subscribed = Has the client subscribed a term deposit in this campaign?\n"
   ]
  },
  {
   "cell_type": "code",
   "execution_count": 3,
   "metadata": {},
   "outputs": [
    {
     "name": "stdout",
     "output_type": "stream",
     "text": [
      "      ID  age         job   marital  education default  balance housing loan  \\\n",
      "0  26110   56      admin.   married    unknown      no     1933      no   no   \n",
      "1  40576   31     unknown   married  secondary      no        3      no   no   \n",
      "2  15320   27    services   married  secondary      no      891     yes   no   \n",
      "3  43962   57  management  divorced   tertiary      no     3287      no   no   \n",
      "4  29842   31  technician   married  secondary      no      119     yes   no   \n",
      "\n",
      "     contact  day month  duration  campaign  pdays  previous poutcome  \\\n",
      "0  telephone   19   nov        44         2     -1         0  unknown   \n",
      "1   cellular   20   jul        91         2     -1         0  unknown   \n",
      "2   cellular   18   jul       240         1     -1         0  unknown   \n",
      "3   cellular   22   jun       867         1     84         3  success   \n",
      "4   cellular    4   feb       380         1     -1         0  unknown   \n",
      "\n",
      "  subscribed  \n",
      "0         no  \n",
      "1         no  \n",
      "2         no  \n",
      "3        yes  \n",
      "4         no  \n",
      "\n",
      "\n",
      "<class 'pandas.core.frame.DataFrame'>\n",
      "RangeIndex: 31647 entries, 0 to 31646\n",
      "Data columns (total 18 columns):\n",
      " #   Column      Non-Null Count  Dtype \n",
      "---  ------      --------------  ----- \n",
      " 0   ID          31647 non-null  int64 \n",
      " 1   age         31647 non-null  int64 \n",
      " 2   job         31647 non-null  object\n",
      " 3   marital     31647 non-null  object\n",
      " 4   education   31647 non-null  object\n",
      " 5   default     31647 non-null  object\n",
      " 6   balance     31647 non-null  int64 \n",
      " 7   housing     31647 non-null  object\n",
      " 8   loan        31647 non-null  object\n",
      " 9   contact     31647 non-null  object\n",
      " 10  day         31647 non-null  int64 \n",
      " 11  month       31647 non-null  object\n",
      " 12  duration    31647 non-null  int64 \n",
      " 13  campaign    31647 non-null  int64 \n",
      " 14  pdays       31647 non-null  int64 \n",
      " 15  previous    31647 non-null  int64 \n",
      " 16  poutcome    31647 non-null  object\n",
      " 17  subscribed  31647 non-null  object\n",
      "dtypes: int64(8), object(10)\n",
      "memory usage: 4.3+ MB\n",
      "None\n"
     ]
    }
   ],
   "source": [
    "# Look at first 5 rows of data\n",
    "print(df_term_deposit_marketing.head())\n",
    "print('\\n')\n",
    "# Look at the structure of the data\n",
    "print(df_term_deposit_marketing.info())"
   ]
  },
  {
   "cell_type": "markdown",
   "metadata": {},
   "source": [
    "Discussion:\n",
    "\n",
    "Based on results above, we can see that all the 18 columns are non-null for all the 31647 rows. Since the data was obtained from Kaggle, the data was clean i.e. there were no missing or null values and hence there was not much to do in terms of treating missing values or null values. "
   ]
  },
  {
   "cell_type": "code",
   "execution_count": 4,
   "metadata": {},
   "outputs": [
    {
     "name": "stdout",
     "output_type": "stream",
     "text": [
      "                 ID           age        balance           day      duration  \\\n",
      "count  31647.000000  31647.000000   31647.000000  31647.000000  31647.000000   \n",
      "mean   22563.972162     40.957247    1363.890258     15.835466    258.113534   \n",
      "std    13075.936990     10.625134    3028.304293      8.337097    257.118973   \n",
      "min        2.000000     18.000000   -8019.000000      1.000000      0.000000   \n",
      "25%    11218.000000     33.000000      73.000000      8.000000    104.000000   \n",
      "50%    22519.000000     39.000000     450.000000     16.000000    180.000000   \n",
      "75%    33879.500000     48.000000    1431.000000     21.000000    318.500000   \n",
      "max    45211.000000     95.000000  102127.000000     31.000000   4918.000000   \n",
      "\n",
      "           campaign         pdays      previous  \n",
      "count  31647.000000  31647.000000  31647.000000  \n",
      "mean       2.765697     39.576042      0.574272  \n",
      "std        3.113830     99.317592      2.422529  \n",
      "min        1.000000     -1.000000      0.000000  \n",
      "25%        1.000000     -1.000000      0.000000  \n",
      "50%        2.000000     -1.000000      0.000000  \n",
      "75%        3.000000     -1.000000      0.000000  \n",
      "max       63.000000    871.000000    275.000000  \n"
     ]
    }
   ],
   "source": [
    "# Look at summary stats of the numerical data\n",
    "print(df_term_deposit_marketing.describe())"
   ]
  },
  {
   "cell_type": "markdown",
   "metadata": {},
   "source": [
    "Discussion:\n",
    "    \n",
    "Based on results above, we can see that:\n",
    "\n",
    "i)age (i.e. age of client) varies from 18 years to 95 years which is reasonable since clients can live upto  95years. \n",
    "\n",
    "ii)balance (i.e. outstanding balance) varies from -8019 to 102127 which is reasonable. It is possible for some clients to have negative balance\n",
    "\n",
    "iii)day (i.e. day of week of contact) varies from 1 to 31 which is reasonable since maximum number of days in a month is 31\n",
    "\n",
    "iv)duration (i.e. contact duration) varies from 0 to 4918 secs which is reasonable since 4918/3600 secs is 1.36hrs. One to two hours is reasonable timeframe for contact duration.\n",
    "\n",
    "v)campaign( i.e. number of contacts performed during this campaign to the client) varies from 1 to 63. 63 seems high, so this needs to be investigated further\n",
    "\n",
    "vi)pdays (i.e. number of days that passed by after the client was last contacted) varies from -1 to 871 days.  871/364 is about 2.39 years which is possible since banks may not be in touch with the clients for few years. \n",
    "\n",
    "vii)previous (i.e. number of contacts performed before this campaign) varies from 0 to 275. 275 seems high, so this needs to be investigated further\n"
   ]
  },
  {
   "cell_type": "code",
   "execution_count": 5,
   "metadata": {},
   "outputs": [
    {
     "data": {
      "text/plain": [
       "<matplotlib.axes._subplots.AxesSubplot at 0xb8c7048>"
      ]
     },
     "execution_count": 5,
     "metadata": {},
     "output_type": "execute_result"
    },
    {
     "data": {
      "image/png": "[encoded data removed]",
      "text/plain": [
       "<Figure size 432x288 with 1 Axes>"
      ]
     },
     "metadata": {
      "needs_background": "light"
     },
     "output_type": "display_data"
    }
   ],
   "source": [
    "sns.boxplot(data=df_term_deposit_marketing['campaign'])"
   ]
  },
  {
   "cell_type": "markdown",
   "metadata": {},
   "source": [
    "Based on boxplot above, we can see that 63 seems to lie on the continum of the values. So, there is no need to treat it any differently."
   ]
  },
  {
   "cell_type": "code",
   "execution_count": 6,
   "metadata": {},
   "outputs": [
    {
     "data": {
      "text/plain": [
       "<matplotlib.axes._subplots.AxesSubplot at 0xb99b788>"
      ]
     },
     "execution_count": 6,
     "metadata": {},
     "output_type": "execute_result"
    },
    {
     "data": {
      "image/png": "[encoded data removed]",
      "text/plain": [
       "<Figure size 432x288 with 1 Axes>"
      ]
     },
     "metadata": {
      "needs_background": "light"
     },
     "output_type": "display_data"
    }
   ],
   "source": [
    "sns.boxplot(data=df_term_deposit_marketing['previous'])"
   ]
  },
  {
   "cell_type": "markdown",
   "metadata": {},
   "source": [
    "Discussion:\n",
    "\n",
    "Based on boxplot above, we can see that 275 lies far away from other values. So we can treat it as a potential wrong/incorrect value. The data point/row corresponding to df_term_deposit_marketing[‘previous’] = 275 can potentially be removed. However for this case, I leave it as it is since it is a possible value (i.e if a customer is a longtime customer, it is possible that the customer can be contacted for 275 times prior to this campaign)\n",
    "\n",
    "Overall, there isn't much data wrangling to do wrt numerical columns."
   ]
  },
  {
   "cell_type": "code",
   "execution_count": 7,
   "metadata": {},
   "outputs": [
    {
     "name": "stdout",
     "output_type": "stream",
     "text": [
      "Job:\n",
      " blue-collar      6842\n",
      "management       6639\n",
      "technician       5307\n",
      "admin.           3631\n",
      "services         2903\n",
      "retired          1574\n",
      "self-employed    1123\n",
      "entrepreneur     1008\n",
      "unemployed        905\n",
      "housemaid         874\n",
      "student           635\n",
      "unknown           206\n",
      "Name: job, dtype: int64 \n",
      "\n",
      "Marital:\n",
      " married     19095\n",
      "single       8922\n",
      "divorced     3630\n",
      "Name: marital, dtype: int64 \n",
      "\n",
      "Education:\n",
      " secondary    16224\n",
      "tertiary      9301\n",
      "primary       4808\n",
      "unknown       1314\n",
      "Name: education, dtype: int64 \n",
      "\n",
      "Default:\n",
      " no     31062\n",
      "yes      585\n",
      "Name: default, dtype: int64 \n",
      "\n",
      "Housing:\n",
      " yes    17584\n",
      "no     14063\n",
      "Name: housing, dtype: int64 \n",
      "\n",
      "Loan:\n",
      " no     26516\n",
      "yes     5131\n",
      "Name: loan, dtype: int64 \n",
      "\n",
      "Contact:\n",
      " cellular     20423\n",
      "unknown       9177\n",
      "telephone     2047\n",
      "Name: contact, dtype: int64 \n",
      "\n",
      "Month:\n",
      " may    9669\n",
      "jul    4844\n",
      "aug    4333\n",
      "jun    3738\n",
      "nov    2783\n",
      "apr    2055\n",
      "feb    1827\n",
      "jan     977\n",
      "oct     512\n",
      "sep     410\n",
      "mar     342\n",
      "dec     157\n",
      "Name: month, dtype: int64 \n",
      "\n",
      "Poutcome:\n",
      " unknown    25929\n",
      "failure     3362\n",
      "other       1288\n",
      "success     1068\n",
      "Name: poutcome, dtype: int64 \n",
      "\n",
      "Subscribed:\n",
      " no     27932\n",
      "yes     3715\n",
      "Name: subscribed, dtype: int64 \n",
      "\n"
     ]
    }
   ],
   "source": [
    "# Look at value counts of categorial columns to see if there are any categories that are not well defined or\n",
    "# have really high or really low value counts. \n",
    "\n",
    "print('Job:\\n',df_term_deposit_marketing['job'].value_counts(),'\\n')\n",
    "print('Marital:\\n', df_term_deposit_marketing['marital'].value_counts(),'\\n')\n",
    "print('Education:\\n',df_term_deposit_marketing['education'].value_counts(),'\\n')\n",
    "print('Default:\\n',df_term_deposit_marketing['default'].value_counts(),'\\n')\n",
    "print('Housing:\\n',df_term_deposit_marketing['housing'].value_counts(),'\\n')\n",
    "print('Loan:\\n',df_term_deposit_marketing['loan'].value_counts(),'\\n')\n",
    "print('Contact:\\n',df_term_deposit_marketing['contact'].value_counts(),'\\n')\n",
    "print('Month:\\n',df_term_deposit_marketing['month'].value_counts(),'\\n')\n",
    "print('Poutcome:\\n',df_term_deposit_marketing['poutcome'].value_counts(),'\\n')\n",
    "print('Subscribed:\\n',df_term_deposit_marketing['subscribed'].value_counts(),'\\n')"
   ]
  },
  {
   "cell_type": "markdown",
   "metadata": {},
   "source": [
    "Discussion:\n",
    "\n",
    "Based on results above, we can see that categories for the columns are well defined and value counts for them seem reasonable. So there is not much data wrangling to do wrt categorical columns."
   ]
  }
 ],
 "metadata": {
  "kernelspec": {
   "display_name": "Python 3",
   "language": "python",
   "name": "python3"
  },
  "language_info": {
   "codemirror_mode": {
    "name": "ipython",
    "version": 3
   },
   "file_extension": ".py",
   "mimetype": "text/x-python",
   "name": "python",
   "nbconvert_exporter": "python",
   "pygments_lexer": "ipython3",
   "version": "3.7.6"
  }
 },
 "nbformat": 4,
 "nbformat_minor": 4
}
